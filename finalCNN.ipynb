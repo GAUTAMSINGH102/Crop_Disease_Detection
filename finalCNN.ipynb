{
  "nbformat": 4,
  "nbformat_minor": 0,
  "metadata": {
    "colab": {
      "provenance": [],
      "gpuType": "T4"
    },
    "kernelspec": {
      "name": "python3",
      "display_name": "Python 3"
    },
    "language_info": {
      "name": "python"
    },
    "accelerator": "GPU",
    "gpuClass": "standard"
  },
  "cells": [
    {
      "cell_type": "code",
      "source": [
        "from google.colab import drive\n",
        "drive.mount('/content/drive')"
      ],
      "metadata": {
        "id": "JTZleBP_OzSW",
        "colab": {
          "base_uri": "https://localhost:8080/"
        },
        "outputId": "a001d065-3268-4d13-ec1b-d806946c6452"
      },
      "execution_count": null,
      "outputs": [
        {
          "output_type": "stream",
          "name": "stdout",
          "text": [
            "Mounted at /content/drive\n"
          ]
        }
      ]
    },
    {
      "cell_type": "code",
      "execution_count": null,
      "metadata": {
        "id": "ScEFQvQ_Ybyy"
      },
      "outputs": [],
      "source": [
        "#https://www.kaggle.com/datasets/vbookshelf/rice-leaf-diseases\n",
        "#https://www.kaggle.com/datasets/emmarex/plantdisease"
      ]
    },
    {
      "cell_type": "code",
      "source": [
        "# !mkdir -p ~/.kaggle\n",
        "# !cp kaggle.json ~/.kaggle/"
      ],
      "metadata": {
        "id": "MUnY0WDoYwsr"
      },
      "execution_count": null,
      "outputs": []
    },
    {
      "cell_type": "code",
      "source": [
        "# !kaggle datasets download -d vbookshelf/rice-leaf-diseases\n",
        "# # !kaggle datasets download -d emmarex/plantdisease"
      ],
      "metadata": {
        "id": "D5B_eI45Y3Gq"
      },
      "execution_count": null,
      "outputs": []
    },
    {
      "cell_type": "code",
      "source": [
        "import zipfile\n",
        "zip_ref = zipfile.ZipFile('/content/drive/MyDrive/Crop-Disease/Plant_leaf_diseases_dataset_without_augmentation.zip', 'r')\n",
        "zip_ref.extractall('/content')\n",
        "zip_ref.close()"
      ],
      "metadata": {
        "id": "-_bCVhIeY-Fe"
      },
      "execution_count": null,
      "outputs": []
    },
    {
      "cell_type": "code",
      "source": [],
      "metadata": {
        "id": "4gUpJ04D1F5m"
      },
      "execution_count": null,
      "outputs": []
    },
    {
      "cell_type": "code",
      "source": [],
      "metadata": {
        "id": "9K3rtkhk1F18"
      },
      "execution_count": null,
      "outputs": []
    },
    {
      "cell_type": "markdown",
      "source": [
        "## **Importing the Library**"
      ],
      "metadata": {
        "id": "inw7qVpX1V4B"
      }
    },
    {
      "cell_type": "code",
      "source": [
        "import matplotlib.pyplot as plt\n",
        "import numpy as np\n",
        "import cv2\n",
        "import os\n",
        "import PIL"
      ],
      "metadata": {
        "id": "8XFlUILZZE1t"
      },
      "execution_count": null,
      "outputs": []
    },
    {
      "cell_type": "code",
      "source": [
        "import tensorflow as tf\n",
        "from tensorflow import keras\n",
        "from keras import Sequential\n",
        "from keras.layers import Dense, Conv2D, MaxPooling2D, Flatten, BatchNormalization, Dropout"
      ],
      "metadata": {
        "id": "V3jQOPfTZjNx"
      },
      "execution_count": null,
      "outputs": []
    },
    {
      "cell_type": "code",
      "source": [],
      "metadata": {
        "id": "QKHagUPY1VjZ"
      },
      "execution_count": null,
      "outputs": []
    },
    {
      "cell_type": "code",
      "source": [],
      "metadata": {
        "id": "fVGe8R5u1Vfy"
      },
      "execution_count": null,
      "outputs": []
    },
    {
      "cell_type": "markdown",
      "source": [
        "## **Labeling the Data**"
      ],
      "metadata": {
        "id": "9wxatT9y1GS3"
      }
    },
    {
      "cell_type": "code",
      "source": [
        "data_dir = \"/content/Plant_leave_diseases_dataset_without_augmentation\""
      ],
      "metadata": {
        "id": "aNDAHttP0-sG"
      },
      "execution_count": null,
      "outputs": []
    },
    {
      "cell_type": "code",
      "source": [
        "import pathlib\n",
        "data_dir=pathlib.Path(data_dir)\n",
        "data_dir"
      ],
      "metadata": {
        "colab": {
          "base_uri": "https://localhost:8080/"
        },
        "id": "i0b1SkW1028j",
        "outputId": "48255b8f-19ce-439d-def3-a5e9c461b52e"
      },
      "execution_count": null,
      "outputs": [
        {
          "output_type": "execute_result",
          "data": {
            "text/plain": [
              "PosixPath('/content/Plant_leave_diseases_dataset_without_augmentation')"
            ]
          },
          "metadata": {},
          "execution_count": 7
        }
      ]
    },
    {
      "cell_type": "code",
      "source": [
        "# dict={\n",
        "#     \"bacteria\":list(data_dir.glob(\"Bacterial leaf blight/*\")),\n",
        "#     \"brown\":list(data_dir.glob(\"Brown spot/*\")),\n",
        "#     \"smut\":list(data_dir.glob(\"Leaf smut/*\"))\n",
        "#     }"
      ],
      "metadata": {
        "id": "l8igHv75yS7R"
      },
      "execution_count": null,
      "outputs": []
    },
    {
      "cell_type": "code",
      "source": [
        "dict={\n",
        "    \"appleScab\":list(data_dir.glob(\"Apple___Apple_scab/*\")),\n",
        "    \"appleBlackRot\":list(data_dir.glob(\"Apple___Black_rot/*\")),\n",
        "    \"appleRust\":list(data_dir.glob(\"Apple___Cedar_apple_rust/*\")),\n",
        "    \"appleHealthy\":list(data_dir.glob(\"Apple___Healthy/*\")),\n",
        "    \"backWithoutLeaves\":list(data_dir.glob(\"Background_without_leaves/*\")),\n",
        "    \"blueberryHealthy\":list(data_dir.glob(\"Blueberry___healthy/*\")),\n",
        "    \"cherryHealthy\":list(data_dir.glob(\"Cherry___healthy/*\")),\n",
        "    \"cherryPowderyMildew\":list(data_dir.glob(\"Cherry___Powdery_mildew/*\")),\n",
        "    \"cornCercospora\":list(data_dir.glob(\"Corn___Cercospora_leaf_spot Gray_leaf_spot/*\")),\n",
        "    \"cornRust\":list(data_dir.glob(\"Corn___Common_rust/*\")),\n",
        "    \"cornHealthy\":list(data_dir.glob(\"Corn___healthy/*\")),\n",
        "    \"cornBlight\":list(data_dir.glob(\"Corn___Northern_Leaf_Blight/*\")),\n",
        "    \"grapeBlackRot\":list(data_dir.glob(\"Grape___Black_rot/*\")),\n",
        "    \"grapeEsca\":list(data_dir.glob(\"Grape___Esca_(Black_Measles)/*\")),\n",
        "    \"grapeHealthy\":list(data_dir.glob(\"Grape___healthy/*\")),\n",
        "    \"grapeBlight\":list(data_dir.glob(\"Grape___Leaf_blight_(Isariopsis_Leaf_Spot)/*\")),\n",
        "    \"orangeHaun\":list(data_dir.glob(\"Orange___Haunglongbing_(Citrus_greening)/*\")),\n",
        "    \"peachBacteria\":list(data_dir.glob(\"Peach___Bacterial_spot/*\")),\n",
        "    \"peachHealthy\":list(data_dir.glob(\"Peach___Healthy/*\")),\n",
        "    \"pepperBacteria\":list(data_dir.glob(\"Pepper,_bell___Bacterial_spot/*\")),\n",
        "    \"pepperHealthy\":list(data_dir.glob(\"Pepper,_bell___healthy/*\")),\n",
        "    \"potatoEarlyBlight\":list(data_dir.glob(\"Potato___Early_blight/*\")),\n",
        "    \"potatoHealthy\":list(data_dir.glob(\"Potato___healthy/*\")),\n",
        "    \"potatoLateBlight\":list(data_dir.glob(\"Potato___Late_blight/*\")),\n",
        "    \"raspberryHealthy\":list(data_dir.glob(\"Raspberry___healthy/*\")),\n",
        "    \"soybeanHealthy\":list(data_dir.glob(\"Soybean___healthy/*\")),\n",
        "    \"squashPowderyMildew\":list(data_dir.glob(\"Squash___Powdery_mildew/*\")),\n",
        "    \"strawberryHealthy\":list(data_dir.glob(\"Strawberry___healthy/*\")),\n",
        "    \"strawberryLeafScorch\":list(data_dir.glob(\"Strawberry___Leaf_scorch/*\")),\n",
        "    \"tomatoBacteria\":list(data_dir.glob(\"Tomato___Bacterial_spot/*\")),\n",
        "    \"tomatoEarlyBlight\":list(data_dir.glob(\"Tomato___Early_blight/*\")),\n",
        "    \"tomatoHealthy\":list(data_dir.glob(\"Tomato___healthy/*\")),\n",
        "    \"tomatoLateBlight\":list(data_dir.glob(\"Tomato___Late_blight/*\")),\n",
        "    \"tomatoLeafMold\":list(data_dir.glob(\"Tomato___Leaf_Mold/*\")),\n",
        "    \"tomatoSeptoria\":list(data_dir.glob(\"Tomato___Septoria_leaf_spot/*\")),\n",
        "    \"tomatoSpiderMites\":list(data_dir.glob(\"Tomato___Spider_mites Two-spotted_spider_mite/*\")),\n",
        "    \"tomatoTargetSpot\":list(data_dir.glob(\"Tomato___Target_Spot/*\")),\n",
        "    \"tomatoMosaic\":list(data_dir.glob(\"Tomato___Tomato_mosaic_virus/*\")),\n",
        "    \"tomatoYellowLeaf\":list(data_dir.glob(\"Tomato___Tomato_Yellow_Leaf_Curl_Virus/*\"))\n",
        "    }"
      ],
      "metadata": {
        "id": "xfnTWIjyQ44x"
      },
      "execution_count": null,
      "outputs": []
    },
    {
      "cell_type": "code",
      "source": [
        "# labels_dict = {\n",
        "#     'bacteria': 0,\n",
        "#     'brown': 1,\n",
        "#     'smut': 2,\n",
        "   \n",
        "# }"
      ],
      "metadata": {
        "id": "sgr8CvT70v-W"
      },
      "execution_count": null,
      "outputs": []
    },
    {
      "cell_type": "code",
      "source": [
        "labels_dict = {\n",
        "    'appleScab': 0,\n",
        "    'appleBlackRot': 1,\n",
        "    'appleRust': 2,\n",
        "    'appleHealthy': 3,\n",
        "    'backWithoutLeaves': 4,\n",
        "    'blueberryHealthy': 5,\n",
        "    'cherryHealthy': 6,\n",
        "    'cherryPowderyMildew': 7,\n",
        "    'cornCercospora': 8,\n",
        "    'cornRust': 9,\n",
        "    'cornHealthy': 10,\n",
        "    'cornBlight': 11,\n",
        "    'grapeBlackRot': 12,\n",
        "    'grapeEsca': 13,\n",
        "    'grapeHealthy': 14,\n",
        "    'grapeBlight': 15,\n",
        "    'orangeHaun': 16,\n",
        "    'peachBacteria': 17,\n",
        "    'peachHealthy': 18,\n",
        "    'pepperBacteria': 19,\n",
        "    'pepperHealthy': 20,\n",
        "    'potatoEarlyBlight': 21,\n",
        "    'potatoHealthy': 22,\n",
        "    'potatoLateBlight': 23,\n",
        "    'raspberryHealthy': 24,\n",
        "    'soybeanHealthy': 25,\n",
        "    'squashPowderyMildew': 26,\n",
        "    'strawberryHealthy': 27,\n",
        "    'strawberryLeafScorch': 28,\n",
        "    'tomatoBacteria': 29,\n",
        "    'tomatoEarlyBlight': 30,\n",
        "    'tomatoHealthy': 31,\n",
        "    'tomatoLateBlight': 32,\n",
        "    'tomatoLeafMold': 33,\n",
        "    'tomatoSeptoria': 34,\n",
        "    'tomatoSpiderMites': 35,\n",
        "    'tomatoTargetSpot': 36,\n",
        "    'tomatoMosaic': 37,\n",
        "    'tomatoYellowLeaf': 38,\n",
        "}"
      ],
      "metadata": {
        "id": "UcpAFbfx038g"
      },
      "execution_count": null,
      "outputs": []
    },
    {
      "cell_type": "code",
      "source": [],
      "metadata": {
        "id": "tje6Llaa1JPk"
      },
      "execution_count": null,
      "outputs": []
    },
    {
      "cell_type": "code",
      "source": [],
      "metadata": {
        "id": "rjoxXBU31JL9"
      },
      "execution_count": null,
      "outputs": []
    },
    {
      "cell_type": "markdown",
      "source": [
        "## **Splitting the Data**"
      ],
      "metadata": {
        "id": "QfAtzfZI1JlC"
      }
    },
    {
      "cell_type": "code",
      "source": [
        "X, y = [], []\n",
        "\n",
        "for name, images in dict.items():\n",
        "    for image in images:\n",
        "        img = cv2.imread(str(image))\n",
        "        resized_img = cv2.resize(img,(64,64))\n",
        "        X.append(resized_img)\n",
        "        y.append(labels_dict[name])"
      ],
      "metadata": {
        "id": "LL03BvDNbn-5"
      },
      "execution_count": null,
      "outputs": []
    },
    {
      "cell_type": "code",
      "source": [
        "X = np.array(X)\n",
        "y = np.array(y)"
      ],
      "metadata": {
        "id": "6QqfMeZ3bs9p"
      },
      "execution_count": null,
      "outputs": []
    },
    {
      "cell_type": "code",
      "source": [
        "# # Store X and y in a file using numpy's save function\n",
        "# np.save('X64.npy', X)\n",
        "# np.save('y64.npy', y)"
      ],
      "metadata": {
        "id": "Pl7WMf93SWng"
      },
      "execution_count": null,
      "outputs": []
    },
    {
      "cell_type": "code",
      "source": [
        "# # Load X and y from file\n",
        "# X = np.load('/content/drive/MyDrive/Crop-Disease/CNN/X.npy')\n",
        "# y = np.load('/content/drive/MyDrive/Crop-Disease/CNN/y.npy')"
      ],
      "metadata": {
        "id": "-f6WfJ1RTBcB"
      },
      "execution_count": null,
      "outputs": []
    },
    {
      "cell_type": "code",
      "source": [
        "from sklearn.model_selection import train_test_split\n",
        "X_train, X_test, y_train, y_test = train_test_split(X, y, random_state=0)"
      ],
      "metadata": {
        "id": "UrMOI3vDbudJ"
      },
      "execution_count": null,
      "outputs": []
    },
    {
      "cell_type": "code",
      "source": [
        "del X"
      ],
      "metadata": {
        "id": "U1iQYE7lUP7C"
      },
      "execution_count": null,
      "outputs": []
    },
    {
      "cell_type": "code",
      "source": [
        "del y"
      ],
      "metadata": {
        "id": "90ci1a6xUY-R"
      },
      "execution_count": null,
      "outputs": []
    },
    {
      "cell_type": "code",
      "source": [
        "X_train_scaled = X_train / 255\n",
        "X_test_scaled = X_test / 255"
      ],
      "metadata": {
        "id": "K5hRHMC1b3Qi"
      },
      "execution_count": null,
      "outputs": []
    },
    {
      "cell_type": "code",
      "source": [
        "del X_train"
      ],
      "metadata": {
        "id": "ZmzX27fNV4BA"
      },
      "execution_count": null,
      "outputs": []
    },
    {
      "cell_type": "code",
      "source": [
        "del X_test"
      ],
      "metadata": {
        "id": "ru2V4cDSV5xX"
      },
      "execution_count": null,
      "outputs": []
    },
    {
      "cell_type": "code",
      "source": [
        "X_train_scaled.shape"
      ],
      "metadata": {
        "colab": {
          "base_uri": "https://localhost:8080/"
        },
        "id": "wqP3vhXdb8u5",
        "outputId": "12f2deb7-3277-4c77-ee46-6a25db044ea1"
      },
      "execution_count": null,
      "outputs": [
        {
          "output_type": "execute_result",
          "data": {
            "text/plain": [
              "(40082, 64, 64, 3)"
            ]
          },
          "metadata": {},
          "execution_count": 22
        }
      ]
    },
    {
      "cell_type": "code",
      "source": [
        "X_test_scaled.shape"
      ],
      "metadata": {
        "colab": {
          "base_uri": "https://localhost:8080/"
        },
        "id": "uIJ2hocR1K31",
        "outputId": "85cc7a40-9f3b-4c4b-c039-8856727a12cd"
      },
      "execution_count": null,
      "outputs": [
        {
          "output_type": "execute_result",
          "data": {
            "text/plain": [
              "(13361, 64, 64, 3)"
            ]
          },
          "metadata": {},
          "execution_count": 23
        }
      ]
    },
    {
      "cell_type": "code",
      "source": [
        "# np.save('X64_train_scaled.npy', X_train_scaled)\n",
        "# np.save('y64_train.npy', y_train)\n",
        "\n",
        "# np.save('X64_test_scaled.npy', X_test_scaled)\n",
        "# np.save('y64_test.npy', y_test)"
      ],
      "metadata": {
        "id": "tkJDCPgZ1emD"
      },
      "execution_count": null,
      "outputs": []
    },
    {
      "cell_type": "code",
      "source": [],
      "metadata": {
        "id": "vBdWLiME1mrO"
      },
      "execution_count": null,
      "outputs": []
    },
    {
      "cell_type": "code",
      "source": [],
      "metadata": {
        "id": "hrteoWw81mnv"
      },
      "execution_count": null,
      "outputs": []
    },
    {
      "cell_type": "markdown",
      "source": [
        "## **Creating the Model**"
      ],
      "metadata": {
        "id": "eFHNqiTU1nMd"
      }
    },
    {
      "cell_type": "code",
      "source": [
        "num_classes = 39"
      ],
      "metadata": {
        "id": "kw1vE7dg1pcx"
      },
      "execution_count": null,
      "outputs": []
    },
    {
      "cell_type": "code",
      "source": [
        "model = Sequential()\n",
        "\n",
        "model.add(Conv2D(32,kernel_size=(3,3),padding='valid',activation='relu',input_shape=(64,64,3)))\n",
        "model.add(BatchNormalization())\n",
        "model.add(MaxPooling2D(pool_size=(2,2),strides=2,padding='valid'))\n",
        "\n",
        "model.add(Conv2D(64,kernel_size=(3,3),padding='valid',activation='relu'))\n",
        "model.add(BatchNormalization())\n",
        "model.add(MaxPooling2D(pool_size=(2,2),strides=2,padding='valid'))\n",
        "\n",
        "model.add(Conv2D(128,kernel_size=(3,3),padding='valid',activation='relu'))\n",
        "model.add(BatchNormalization())\n",
        "model.add(MaxPooling2D(pool_size=(2,2),strides=2,padding='valid'))\n",
        "\n",
        "model.add(Flatten())\n",
        "\n",
        "model.add(Dense(128,activation='relu'))\n",
        "model.add(Dropout(0.1))\n",
        "model.add(Dense(64,activation='relu'))\n",
        "model.add(Dropout(0.1))\n",
        "model.add(Dense(num_classes))"
      ],
      "metadata": {
        "id": "2tk4UzWh1oaX"
      },
      "execution_count": null,
      "outputs": []
    },
    {
      "cell_type": "code",
      "source": [
        "model.summary()"
      ],
      "metadata": {
        "colab": {
          "base_uri": "https://localhost:8080/"
        },
        "id": "TmphXRAX1rH0",
        "outputId": "b9cc801f-66d5-4d7f-f7a8-f5a5d7d5d4d3"
      },
      "execution_count": null,
      "outputs": [
        {
          "output_type": "stream",
          "name": "stdout",
          "text": [
            "Model: \"sequential\"\n",
            "_________________________________________________________________\n",
            " Layer (type)                Output Shape              Param #   \n",
            "=================================================================\n",
            " conv2d (Conv2D)             (None, 62, 62, 32)        896       \n",
            "                                                                 \n",
            " batch_normalization (BatchN  (None, 62, 62, 32)       128       \n",
            " ormalization)                                                   \n",
            "                                                                 \n",
            " max_pooling2d (MaxPooling2D  (None, 31, 31, 32)       0         \n",
            " )                                                               \n",
            "                                                                 \n",
            " conv2d_1 (Conv2D)           (None, 29, 29, 64)        18496     \n",
            "                                                                 \n",
            " batch_normalization_1 (Batc  (None, 29, 29, 64)       256       \n",
            " hNormalization)                                                 \n",
            "                                                                 \n",
            " max_pooling2d_1 (MaxPooling  (None, 14, 14, 64)       0         \n",
            " 2D)                                                             \n",
            "                                                                 \n",
            " conv2d_2 (Conv2D)           (None, 12, 12, 128)       73856     \n",
            "                                                                 \n",
            " batch_normalization_2 (Batc  (None, 12, 12, 128)      512       \n",
            " hNormalization)                                                 \n",
            "                                                                 \n",
            " max_pooling2d_2 (MaxPooling  (None, 6, 6, 128)        0         \n",
            " 2D)                                                             \n",
            "                                                                 \n",
            " flatten (Flatten)           (None, 4608)              0         \n",
            "                                                                 \n",
            " dense (Dense)               (None, 128)               589952    \n",
            "                                                                 \n",
            " dropout (Dropout)           (None, 128)               0         \n",
            "                                                                 \n",
            " dense_1 (Dense)             (None, 64)                8256      \n",
            "                                                                 \n",
            " dropout_1 (Dropout)         (None, 64)                0         \n",
            "                                                                 \n",
            " dense_2 (Dense)             (None, 39)                2535      \n",
            "                                                                 \n",
            "=================================================================\n",
            "Total params: 694,887\n",
            "Trainable params: 694,439\n",
            "Non-trainable params: 448\n",
            "_________________________________________________________________\n"
          ]
        }
      ]
    },
    {
      "cell_type": "code",
      "source": [
        "from tensorflow.keras.utils import plot_model"
      ],
      "metadata": {
        "id": "0PvWdlRxrZkJ"
      },
      "execution_count": null,
      "outputs": []
    },
    {
      "cell_type": "code",
      "source": [
        "plot_model(model)"
      ],
      "metadata": {
        "id": "D-8SF_rG1s1n",
        "colab": {
          "base_uri": "https://localhost:8080/",
          "height": 1537
        },
        "outputId": "01b8eda3-00d3-4a15-f229-f3e470db1cf7"
      },
      "execution_count": null,
      "outputs": [
        {
          "output_type": "execute_result",
          "data": {
            "image/png": "[encoded data removed]",
            "text/plain": [
              "<IPython.core.display.Image object>"
            ]
          },
          "metadata": {},
          "execution_count": 30
        }
      ]
    },
    {
      "cell_type": "markdown",
      "source": [
        "## **Compiling and Training**"
      ],
      "metadata": {
        "id": "B_pjAmrN10vh"
      }
    },
    {
      "cell_type": "code",
      "source": [
        "model.compile(optimizer='adam',loss=tf.keras.losses.SparseCategoricalCrossentropy(from_logits=True),metrics=['accuracy'])"
      ],
      "metadata": {
        "id": "546STsZHe_Rx"
      },
      "execution_count": null,
      "outputs": []
    },
    {
      "cell_type": "code",
      "source": [
        "history = model.fit(X_train_scaled, y_train, epochs=20, validation_data=(X_test_scaled, y_test))"
      ],
      "metadata": {
        "colab": {
          "base_uri": "https://localhost:8080/"
        },
        "id": "neUsQ7JYfGMR",
        "outputId": "dee61fc0-6367-4e14-9a6c-0a56e8135686"
      },
      "execution_count": null,
      "outputs": [
        {
          "output_type": "stream",
          "name": "stdout",
          "text": [
            "Epoch 1/20\n",
            "1253/1253 [==============================] - 28s 12ms/step - loss: 1.1292 - accuracy: 0.6807 - val_loss: 1.8164 - val_accuracy: 0.5831\n",
            "Epoch 2/20\n",
            "1253/1253 [==============================] - 11s 9ms/step - loss: 0.5233 - accuracy: 0.8388 - val_loss: 1.2108 - val_accuracy: 0.6819\n",
            "Epoch 3/20\n",
            "1253/1253 [==============================] - 12s 10ms/step - loss: 0.3588 - accuracy: 0.8878 - val_loss: 0.7075 - val_accuracy: 0.8062\n",
            "Epoch 4/20\n",
            "1253/1253 [==============================] - 11s 9ms/step - loss: 0.2726 - accuracy: 0.9149 - val_loss: 0.5677 - val_accuracy: 0.8511\n",
            "Epoch 5/20\n",
            "1253/1253 [==============================] - 11s 9ms/step - loss: 0.2122 - accuracy: 0.9348 - val_loss: 0.7235 - val_accuracy: 0.8158\n",
            "Epoch 6/20\n",
            "1253/1253 [==============================] - 12s 10ms/step - loss: 0.1847 - accuracy: 0.9425 - val_loss: 0.3560 - val_accuracy: 0.8996\n",
            "Epoch 7/20\n",
            "1253/1253 [==============================] - 10s 8ms/step - loss: 0.1501 - accuracy: 0.9529 - val_loss: 0.6276 - val_accuracy: 0.8494\n",
            "Epoch 8/20\n",
            "1253/1253 [==============================] - 11s 9ms/step - loss: 0.1417 - accuracy: 0.9553 - val_loss: 0.2446 - val_accuracy: 0.9368\n",
            "Epoch 9/20\n",
            "1253/1253 [==============================] - 11s 9ms/step - loss: 0.1258 - accuracy: 0.9621 - val_loss: 0.5719 - val_accuracy: 0.8552\n",
            "Epoch 10/20\n",
            "1253/1253 [==============================] - 11s 9ms/step - loss: 0.1055 - accuracy: 0.9669 - val_loss: 0.3039 - val_accuracy: 0.9195\n",
            "Epoch 11/20\n",
            "1253/1253 [==============================] - 10s 8ms/step - loss: 0.0997 - accuracy: 0.9703 - val_loss: 0.5726 - val_accuracy: 0.8663\n",
            "Epoch 12/20\n",
            "1253/1253 [==============================] - 10s 8ms/step - loss: 0.0912 - accuracy: 0.9722 - val_loss: 1.6026 - val_accuracy: 0.7278\n",
            "Epoch 13/20\n",
            "1253/1253 [==============================] - 11s 8ms/step - loss: 0.0953 - accuracy: 0.9716 - val_loss: 0.3698 - val_accuracy: 0.9062\n",
            "Epoch 14/20\n",
            "1253/1253 [==============================] - 11s 9ms/step - loss: 0.0856 - accuracy: 0.9755 - val_loss: 0.6240 - val_accuracy: 0.8666\n",
            "Epoch 15/20\n",
            "1253/1253 [==============================] - 12s 9ms/step - loss: 0.0761 - accuracy: 0.9771 - val_loss: 0.7727 - val_accuracy: 0.8532\n",
            "Epoch 16/20\n",
            "1253/1253 [==============================] - 11s 8ms/step - loss: 0.0718 - accuracy: 0.9794 - val_loss: 1.7955 - val_accuracy: 0.7523\n",
            "Epoch 17/20\n",
            "1253/1253 [==============================] - 10s 8ms/step - loss: 0.0774 - accuracy: 0.9774 - val_loss: 0.2653 - val_accuracy: 0.9379\n",
            "Epoch 18/20\n",
            "1253/1253 [==============================] - 12s 10ms/step - loss: 0.0723 - accuracy: 0.9786 - val_loss: 0.2810 - val_accuracy: 0.9384\n",
            "Epoch 19/20\n",
            "1253/1253 [==============================] - 11s 9ms/step - loss: 0.0644 - accuracy: 0.9817 - val_loss: 0.1835 - val_accuracy: 0.9581\n",
            "Epoch 20/20\n",
            "1253/1253 [==============================] - 11s 9ms/step - loss: 0.0554 - accuracy: 0.9842 - val_loss: 0.2530 - val_accuracy: 0.9456\n"
          ]
        }
      ]
    },
    {
      "cell_type": "code",
      "source": [
        "model.save('CNNModel9894.h5')"
      ],
      "metadata": {
        "id": "LXdJWbUv1x1i"
      },
      "execution_count": null,
      "outputs": []
    },
    {
      "cell_type": "code",
      "source": [
        "from tensorflow.keras.models import load_model\n",
        "\n",
        "# Load the saved model\n",
        "model = load_model('/content/drive/MyDrive/Crop-Disease/CNNModel9894.h5')"
      ],
      "metadata": {
        "id": "cyIuZ3_V3DHG"
      },
      "execution_count": null,
      "outputs": []
    },
    {
      "cell_type": "code",
      "source": [
        "import pandas as pd\n",
        "from sklearn.metrics import classification_report\n",
        "import seaborn as sns"
      ],
      "metadata": {
        "id": "6sR6FHOh3DDh"
      },
      "execution_count": null,
      "outputs": []
    },
    {
      "cell_type": "code",
      "source": [
        "y_prob = model.predict(X_test_scaled)\n",
        "y_pred = np.argmax(y_prob, axis=1)\n",
        "report = classification_report(y_test, y_pred, output_dict=True)"
      ],
      "metadata": {
        "id": "ETTDRS325QKu",
        "colab": {
          "base_uri": "https://localhost:8080/"
        },
        "outputId": "28348098-743c-4565-d637-751f87b2107f"
      },
      "execution_count": null,
      "outputs": [
        {
          "output_type": "stream",
          "name": "stdout",
          "text": [
            "418/418 [==============================] - 9s 3ms/step\n"
          ]
        }
      ]
    },
    {
      "cell_type": "code",
      "source": [
        "# create a dataframe from the classification report\n",
        "df = pd.DataFrame(report).transpose()"
      ],
      "metadata": {
        "id": "sQHWnhRSmmra"
      },
      "execution_count": null,
      "outputs": []
    },
    {
      "cell_type": "code",
      "source": [
        "df.tail()"
      ],
      "metadata": {
        "colab": {
          "base_uri": "https://localhost:8080/",
          "height": 206
        },
        "id": "ksiSIPiYpBFj",
        "outputId": "77fbd062-7f82-44b1-9b8a-56b02c651119"
      },
      "execution_count": null,
      "outputs": [
        {
          "output_type": "execute_result",
          "data": {
            "text/plain": [
              "              precision    recall  f1-score       support\n",
              "37             0.930233  0.879121  0.903955     91.000000\n",
              "38             0.994830  0.986091  0.990441   1366.000000\n",
              "accuracy       0.945588  0.945588  0.945588      0.945588\n",
              "macro avg      0.928437  0.926737  0.925231  13361.000000\n",
              "weighted avg   0.948465  0.945588  0.944935  13361.000000"
            ],
            "text/html": [
              "\n",
              "  <div id=\"df-9bd83ed8-af42-4a04-9a88-81a69a35440b\">\n",
              "    <div class=\"colab-df-container\">\n",
              "      <div>\n",
              "<style scoped>\n",
              "    .dataframe tbody tr th:only-of-type {\n",
              "        vertical-align: middle;\n",
              "    }\n",
              "\n",
              "    .dataframe tbody tr th {\n",
              "        vertical-align: top;\n",
              "    }\n",
              "\n",
              "    .dataframe thead th {\n",
              "        text-align: right;\n",
              "    }\n",
              "</style>\n",
              "<table border=\"1\" class=\"dataframe\">\n",
              "  <thead>\n",
              "    <tr style=\"text-align: right;\">\n",
              "      <th></th>\n",
              "      <th>precision</th>\n",
              "      <th>recall</th>\n",
              "      <th>f1-score</th>\n",
              "      <th>support</th>\n",
              "    </tr>\n",
              "  </thead>\n",
              "  <tbody>\n",
              "    <tr>\n",
              "      <th>37</th>\n",
              "      <td>0.930233</td>\n",
              "      <td>0.879121</td>\n",
              "      <td>0.903955</td>\n",
              "      <td>91.000000</td>\n",
              "    </tr>\n",
              "    <tr>\n",
              "      <th>38</th>\n",
              "      <td>0.994830</td>\n",
              "      <td>0.986091</td>\n",
              "      <td>0.990441</td>\n",
              "      <td>1366.000000</td>\n",
              "    </tr>\n",
              "    <tr>\n",
              "      <th>accuracy</th>\n",
              "      <td>0.945588</td>\n",
              "      <td>0.945588</td>\n",
              "      <td>0.945588</td>\n",
              "      <td>0.945588</td>\n",
              "    </tr>\n",
              "    <tr>\n",
              "      <th>macro avg</th>\n",
              "      <td>0.928437</td>\n",
              "      <td>0.926737</td>\n",
              "      <td>0.925231</td>\n",
              "      <td>13361.000000</td>\n",
              "    </tr>\n",
              "    <tr>\n",
              "      <th>weighted avg</th>\n",
              "      <td>0.948465</td>\n",
              "      <td>0.945588</td>\n",
              "      <td>0.944935</td>\n",
              "      <td>13361.000000</td>\n",
              "    </tr>\n",
              "  </tbody>\n",
              "</table>\n",
              "</div>\n",
              "      <button class=\"colab-df-convert\" onclick=\"convertToInteractive('df-9bd83ed8-af42-4a04-9a88-81a69a35440b')\"\n",
              "              title=\"Convert this dataframe to an interactive table.\"\n",
              "              style=\"display:none;\">\n",
              "        \n",
              "  <svg xmlns=\"http://www.w3.org/2000/svg\" height=\"24px\"viewBox=\"0 0 24 24\"\n",
              "       width=\"24px\">\n",
              "    <path d=\"M0 0h24v24H0V0z\" fill=\"none\"/>\n",
              "    <path d=\"M18.56 5.44l.94 2.06.94-2.06 2.06-.94-2.06-.94-.94-2.06-.94 2.06-2.06.94zm-11 1L8.5 8.5l.94-2.06 2.06-.94-2.06-.94L8.5 2.5l-.94 2.06-2.06.94zm10 10l.94 2.06.94-2.06 2.06-.94-2.06-.94-.94-2.06-.94 2.06-2.06.94z\"/><path d=\"M17.41 7.96l-1.37-1.37c-.4-.4-.92-.59-1.43-.59-.52 0-1.04.2-1.43.59L10.3 9.45l-7.72 7.72c-.78.78-.78 2.05 0 2.83L4 21.41c.39.39.9.59 1.41.59.51 0 1.02-.2 1.41-.59l7.78-7.78 2.81-2.81c.8-.78.8-2.07 0-2.86zM5.41 20L4 18.59l7.72-7.72 1.47 1.35L5.41 20z\"/>\n",
              "  </svg>\n",
              "      </button>\n",
              "      \n",
              "  <style>\n",
              "    .colab-df-container {\n",
              "      display:flex;\n",
              "      flex-wrap:wrap;\n",
              "      gap: 12px;\n",
              "    }\n",
              "\n",
              "    .colab-df-convert {\n",
              "      background-color: #E8F0FE;\n",
              "      border: none;\n",
              "      border-radius: 50%;\n",
              "      cursor: pointer;\n",
              "      display: none;\n",
              "      fill: #1967D2;\n",
              "      height: 32px;\n",
              "      padding: 0 0 0 0;\n",
              "      width: 32px;\n",
              "    }\n",
              "\n",
              "    .colab-df-convert:hover {\n",
              "      background-color: #E2EBFA;\n",
              "      box-shadow: 0px 1px 2px rgba(60, 64, 67, 0.3), 0px 1px 3px 1px rgba(60, 64, 67, 0.15);\n",
              "      fill: #174EA6;\n",
              "    }\n",
              "\n",
              "    [theme=dark] .colab-df-convert {\n",
              "      background-color: #3B4455;\n",
              "      fill: #D2E3FC;\n",
              "    }\n",
              "\n",
              "    [theme=dark] .colab-df-convert:hover {\n",
              "      background-color: #434B5C;\n",
              "      box-shadow: 0px 1px 3px 1px rgba(0, 0, 0, 0.15);\n",
              "      filter: drop-shadow(0px 1px 2px rgba(0, 0, 0, 0.3));\n",
              "      fill: #FFFFFF;\n",
              "    }\n",
              "  </style>\n",
              "\n",
              "      <script>\n",
              "        const buttonEl =\n",
              "          document.querySelector('#df-9bd83ed8-af42-4a04-9a88-81a69a35440b button.colab-df-convert');\n",
              "        buttonEl.style.display =\n",
              "          google.colab.kernel.accessAllowed ? 'block' : 'none';\n",
              "\n",
              "        async function convertToInteractive(key) {\n",
              "          const element = document.querySelector('#df-9bd83ed8-af42-4a04-9a88-81a69a35440b');\n",
              "          const dataTable =\n",
              "            await google.colab.kernel.invokeFunction('convertToInteractive',\n",
              "                                                     [key], {});\n",
              "          if (!dataTable) return;\n",
              "\n",
              "          const docLinkHtml = 'Like what you see? Visit the ' +\n",
              "            '<a target=\"_blank\" href=https://colab.research.google.com/notebooks/data_table.ipynb>data table notebook</a>'\n",
              "            + ' to learn more about interactive tables.';\n",
              "          element.innerHTML = '';\n",
              "          dataTable['output_type'] = 'display_data';\n",
              "          await google.colab.output.renderOutput(dataTable, element);\n",
              "          const docLink = document.createElement('div');\n",
              "          docLink.innerHTML = docLinkHtml;\n",
              "          element.appendChild(docLink);\n",
              "        }\n",
              "      </script>\n",
              "    </div>\n",
              "  </div>\n",
              "  "
            ]
          },
          "metadata": {},
          "execution_count": 35
        }
      ]
    },
    {
      "cell_type": "markdown",
      "source": [
        "## **Graph**"
      ],
      "metadata": {
        "id": "y8wrZZSB5QnS"
      }
    },
    {
      "cell_type": "code",
      "source": [
        "plt.style.use('dark_background')"
      ],
      "metadata": {
        "id": "HB1OIFYJ9zv-"
      },
      "execution_count": null,
      "outputs": []
    },
    {
      "cell_type": "code",
      "source": [
        "loss = history.history['loss']\n",
        "val_loss = history.history['val_loss']\n",
        "\n",
        "epochs = range(len(loss))\n",
        "\n",
        "fig = plt.figure(figsize=(15,6))\n",
        "plt.plot(epochs,loss,c=\"lawngreen\",label=\"Training\")\n",
        "plt.plot(epochs,val_loss,c=\"deepskyblue\",label=\"Validation\")\n",
        "plt.xlabel(\"Epochs\")\n",
        "plt.ylabel(\"Loss\")\n",
        "plt.legend()"
      ],
      "metadata": {
        "id": "sO2Rc3BWqZVt",
        "colab": {
          "base_uri": "https://localhost:8080/",
          "height": 559
        },
        "outputId": "bd0937e8-ad34-4ea8-87b3-0619e8869e36"
      },
      "execution_count": null,
      "outputs": [
        {
          "output_type": "execute_result",
          "data": {
            "text/plain": [
              "<matplotlib.legend.Legend at 0x7f0234f42a10>"
            ]
          },
          "metadata": {},
          "execution_count": 55
        },
        {
          "output_type": "display_data",
          "data": {
            "text/plain": [
              "<Figure size 1500x600 with 1 Axes>"
            ],
            "image/png": "[encoded data removed]"
          },
          "metadata": {}
        }
      ]
    },
    {
      "cell_type": "code",
      "source": [
        "acc = history.history['accuracy']\n",
        "val_acc = history.history['val_accuracy']\n",
        "\n",
        "epochs = range(len(acc))\n",
        "\n",
        "fig = plt.figure(figsize=(15,6))\n",
        "plt.plot(epochs,acc,c=\"deeppink\",label=\"Training\")\n",
        "plt.plot(epochs,val_acc,c=\"yellow\",label=\"Validation\")\n",
        "plt.xlabel(\"Epochs\")\n",
        "plt.ylabel(\"Accuracy\")\n",
        "plt.legend()"
      ],
      "metadata": {
        "id": "s5tyTHXFqao4",
        "colab": {
          "base_uri": "https://localhost:8080/",
          "height": 560
        },
        "outputId": "f7b8524b-7ef3-406f-d8ec-f1a3c725ad96"
      },
      "execution_count": null,
      "outputs": [
        {
          "output_type": "execute_result",
          "data": {
            "text/plain": [
              "<matplotlib.legend.Legend at 0x7f023508bfd0>"
            ]
          },
          "metadata": {},
          "execution_count": 54
        },
        {
          "output_type": "display_data",
          "data": {
            "text/plain": [
              "<Figure size 1500x600 with 1 Axes>"
            ],
            "image/png": "[encoded data removed]"
          },
          "metadata": {}
        }
      ]
    },
    {
      "cell_type": "code",
      "source": [],
      "metadata": {
        "id": "bwH_IZ-659Rp"
      },
      "execution_count": null,
      "outputs": []
    },
    {
      "cell_type": "code",
      "source": [],
      "metadata": {
        "id": "jAFzahYCp1ny"
      },
      "execution_count": null,
      "outputs": []
    }
  ]
}