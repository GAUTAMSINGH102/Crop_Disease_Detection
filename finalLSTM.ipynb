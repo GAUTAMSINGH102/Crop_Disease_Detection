{
  "nbformat": 4,
  "nbformat_minor": 0,
  "metadata": {
    "colab": {
      "provenance": []
    },
    "kernelspec": {
      "name": "python3",
      "display_name": "Python 3"
    },
    "language_info": {
      "name": "python"
    },
    "accelerator": "GPU",
    "gpuClass": "standard"
  },
  "cells": [
    {
      "cell_type": "code",
      "source": [
        "from google.colab import drive\n",
        "drive.mount('/content/drive')"
      ],
      "metadata": {
        "colab": {
          "base_uri": "https://localhost:8080/"
        },
        "id": "pRfAjdr_ZoAa",
        "outputId": "3c17d9cd-a11c-46df-d73d-36c0aece236b"
      },
      "execution_count": null,
      "outputs": [
        {
          "output_type": "stream",
          "name": "stdout",
          "text": [
            "Mounted at /content/drive\n"
          ]
        }
      ]
    },
    {
      "cell_type": "code",
      "source": [
        "import pandas as pd\n",
        "import numpy as np"
      ],
      "metadata": {
        "id": "Ab0TcEZC5IzL"
      },
      "execution_count": null,
      "outputs": []
    },
    {
      "cell_type": "code",
      "source": [
        "from keras.utils import to_categorical\n",
        "import numpy as np\n",
        "import pandas as pd\n",
        "from sklearn.model_selection import train_test_split"
      ],
      "metadata": {
        "id": "JQC_E8c35XSr"
      },
      "execution_count": null,
      "outputs": []
    },
    {
      "cell_type": "code",
      "source": [
        "data = pd.read_csv('/content/drive/MyDrive/Crop-Disease/crop_disese_detection.csv')"
      ],
      "metadata": {
        "id": "kHss4-0F5aAj"
      },
      "execution_count": null,
      "outputs": []
    },
    {
      "cell_type": "code",
      "source": [
        "data.head()"
      ],
      "metadata": {
        "colab": {
          "base_uri": "https://localhost:8080/",
          "height": 299
        },
        "id": "nKNBovHm5dz6",
        "outputId": "f5b3190f-c83b-4758-a0fe-89b5c041927d"
      },
      "execution_count": null,
      "outputs": [
        {
          "output_type": "execute_result",
          "data": {
            "text/plain": [
              "   label  pixel0  pixel1  pixel2  pixel3  pixel4  pixel5  pixel6  pixel7  \\\n",
              "0     36     140     146     148     149     140     140     141     144   \n",
              "1     36     150     151     150     149     149     154     148     149   \n",
              "2     36     151     149     155     149     150     157     156     160   \n",
              "3     36     144     144     148     140     146     147     142     141   \n",
              "4     36     137     140     134     138     140     135     140     137   \n",
              "\n",
              "   pixel8  ...  pixel4086  pixel4087  pixel4088  pixel4089  pixel4090  \\\n",
              "0     142  ...        116        116        119        117        111   \n",
              "1     146  ...        108        108        107        103        108   \n",
              "2     155  ...        115        125        139        130        138   \n",
              "3     152  ...        103        100         92         95         92   \n",
              "4     129  ...         95         90         96         86         91   \n",
              "\n",
              "   pixel4091  pixel4092  pixel4093  pixel4094  pixel4095  \n",
              "0        119        122        110        126        126  \n",
              "1        108         96        113         91         99  \n",
              "2        141        133        141        134        121  \n",
              "3         98         89         85         81         91  \n",
              "4         89         86         91         91         94  \n",
              "\n",
              "[5 rows x 4097 columns]"
            ],
            "text/html": [
              "\n",
              "  <div id=\"df-b3430669-5940-4cdf-99cf-f9c88302e003\">\n",
              "    <div class=\"colab-df-container\">\n",
              "      <div>\n",
              "<style scoped>\n",
              "    .dataframe tbody tr th:only-of-type {\n",
              "        vertical-align: middle;\n",
              "    }\n",
              "\n",
              "    .dataframe tbody tr th {\n",
              "        vertical-align: top;\n",
              "    }\n",
              "\n",
              "    .dataframe thead th {\n",
              "        text-align: right;\n",
              "    }\n",
              "</style>\n",
              "<table border=\"1\" class=\"dataframe\">\n",
              "  <thead>\n",
              "    <tr style=\"text-align: right;\">\n",
              "      <th></th>\n",
              "      <th>label</th>\n",
              "      <th>pixel0</th>\n",
              "      <th>pixel1</th>\n",
              "      <th>pixel2</th>\n",
              "      <th>pixel3</th>\n",
              "      <th>pixel4</th>\n",
              "      <th>pixel5</th>\n",
              "      <th>pixel6</th>\n",
              "      <th>pixel7</th>\n",
              "      <th>pixel8</th>\n",
              "      <th>...</th>\n",
              "      <th>pixel4086</th>\n",
              "      <th>pixel4087</th>\n",
              "      <th>pixel4088</th>\n",
              "      <th>pixel4089</th>\n",
              "      <th>pixel4090</th>\n",
              "      <th>pixel4091</th>\n",
              "      <th>pixel4092</th>\n",
              "      <th>pixel4093</th>\n",
              "      <th>pixel4094</th>\n",
              "      <th>pixel4095</th>\n",
              "    </tr>\n",
              "  </thead>\n",
              "  <tbody>\n",
              "    <tr>\n",
              "      <th>0</th>\n",
              "      <td>36</td>\n",
              "      <td>140</td>\n",
              "      <td>146</td>\n",
              "      <td>148</td>\n",
              "      <td>149</td>\n",
              "      <td>140</td>\n",
              "      <td>140</td>\n",
              "      <td>141</td>\n",
              "      <td>144</td>\n",
              "      <td>142</td>\n",
              "      <td>...</td>\n",
              "      <td>116</td>\n",
              "      <td>116</td>\n",
              "      <td>119</td>\n",
              "      <td>117</td>\n",
              "      <td>111</td>\n",
              "      <td>119</td>\n",
              "      <td>122</td>\n",
              "      <td>110</td>\n",
              "      <td>126</td>\n",
              "      <td>126</td>\n",
              "    </tr>\n",
              "    <tr>\n",
              "      <th>1</th>\n",
              "      <td>36</td>\n",
              "      <td>150</td>\n",
              "      <td>151</td>\n",
              "      <td>150</td>\n",
              "      <td>149</td>\n",
              "      <td>149</td>\n",
              "      <td>154</td>\n",
              "      <td>148</td>\n",
              "      <td>149</td>\n",
              "      <td>146</td>\n",
              "      <td>...</td>\n",
              "      <td>108</td>\n",
              "      <td>108</td>\n",
              "      <td>107</td>\n",
              "      <td>103</td>\n",
              "      <td>108</td>\n",
              "      <td>108</td>\n",
              "      <td>96</td>\n",
              "      <td>113</td>\n",
              "      <td>91</td>\n",
              "      <td>99</td>\n",
              "    </tr>\n",
              "    <tr>\n",
              "      <th>2</th>\n",
              "      <td>36</td>\n",
              "      <td>151</td>\n",
              "      <td>149</td>\n",
              "      <td>155</td>\n",
              "      <td>149</td>\n",
              "      <td>150</td>\n",
              "      <td>157</td>\n",
              "      <td>156</td>\n",
              "      <td>160</td>\n",
              "      <td>155</td>\n",
              "      <td>...</td>\n",
              "      <td>115</td>\n",
              "      <td>125</td>\n",
              "      <td>139</td>\n",
              "      <td>130</td>\n",
              "      <td>138</td>\n",
              "      <td>141</td>\n",
              "      <td>133</td>\n",
              "      <td>141</td>\n",
              "      <td>134</td>\n",
              "      <td>121</td>\n",
              "    </tr>\n",
              "    <tr>\n",
              "      <th>3</th>\n",
              "      <td>36</td>\n",
              "      <td>144</td>\n",
              "      <td>144</td>\n",
              "      <td>148</td>\n",
              "      <td>140</td>\n",
              "      <td>146</td>\n",
              "      <td>147</td>\n",
              "      <td>142</td>\n",
              "      <td>141</td>\n",
              "      <td>152</td>\n",
              "      <td>...</td>\n",
              "      <td>103</td>\n",
              "      <td>100</td>\n",
              "      <td>92</td>\n",
              "      <td>95</td>\n",
              "      <td>92</td>\n",
              "      <td>98</td>\n",
              "      <td>89</td>\n",
              "      <td>85</td>\n",
              "      <td>81</td>\n",
              "      <td>91</td>\n",
              "    </tr>\n",
              "    <tr>\n",
              "      <th>4</th>\n",
              "      <td>36</td>\n",
              "      <td>137</td>\n",
              "      <td>140</td>\n",
              "      <td>134</td>\n",
              "      <td>138</td>\n",
              "      <td>140</td>\n",
              "      <td>135</td>\n",
              "      <td>140</td>\n",
              "      <td>137</td>\n",
              "      <td>129</td>\n",
              "      <td>...</td>\n",
              "      <td>95</td>\n",
              "      <td>90</td>\n",
              "      <td>96</td>\n",
              "      <td>86</td>\n",
              "      <td>91</td>\n",
              "      <td>89</td>\n",
              "      <td>86</td>\n",
              "      <td>91</td>\n",
              "      <td>91</td>\n",
              "      <td>94</td>\n",
              "    </tr>\n",
              "  </tbody>\n",
              "</table>\n",
              "<p>5 rows × 4097 columns</p>\n",
              "</div>\n",
              "      <button class=\"colab-df-convert\" onclick=\"convertToInteractive('df-b3430669-5940-4cdf-99cf-f9c88302e003')\"\n",
              "              title=\"Convert this dataframe to an interactive table.\"\n",
              "              style=\"display:none;\">\n",
              "        \n",
              "  <svg xmlns=\"http://www.w3.org/2000/svg\" height=\"24px\"viewBox=\"0 0 24 24\"\n",
              "       width=\"24px\">\n",
              "    <path d=\"M0 0h24v24H0V0z\" fill=\"none\"/>\n",
              "    <path d=\"M18.56 5.44l.94 2.06.94-2.06 2.06-.94-2.06-.94-.94-2.06-.94 2.06-2.06.94zm-11 1L8.5 8.5l.94-2.06 2.06-.94-2.06-.94L8.5 2.5l-.94 2.06-2.06.94zm10 10l.94 2.06.94-2.06 2.06-.94-2.06-.94-.94-2.06-.94 2.06-2.06.94z\"/><path d=\"M17.41 7.96l-1.37-1.37c-.4-.4-.92-.59-1.43-.59-.52 0-1.04.2-1.43.59L10.3 9.45l-7.72 7.72c-.78.78-.78 2.05 0 2.83L4 21.41c.39.39.9.59 1.41.59.51 0 1.02-.2 1.41-.59l7.78-7.78 2.81-2.81c.8-.78.8-2.07 0-2.86zM5.41 20L4 18.59l7.72-7.72 1.47 1.35L5.41 20z\"/>\n",
              "  </svg>\n",
              "      </button>\n",
              "      \n",
              "  <style>\n",
              "    .colab-df-container {\n",
              "      display:flex;\n",
              "      flex-wrap:wrap;\n",
              "      gap: 12px;\n",
              "    }\n",
              "\n",
              "    .colab-df-convert {\n",
              "      background-color: #E8F0FE;\n",
              "      border: none;\n",
              "      border-radius: 50%;\n",
              "      cursor: pointer;\n",
              "      display: none;\n",
              "      fill: #1967D2;\n",
              "      height: 32px;\n",
              "      padding: 0 0 0 0;\n",
              "      width: 32px;\n",
              "    }\n",
              "\n",
              "    .colab-df-convert:hover {\n",
              "      background-color: #E2EBFA;\n",
              "      box-shadow: 0px 1px 2px rgba(60, 64, 67, 0.3), 0px 1px 3px 1px rgba(60, 64, 67, 0.15);\n",
              "      fill: #174EA6;\n",
              "    }\n",
              "\n",
              "    [theme=dark] .colab-df-convert {\n",
              "      background-color: #3B4455;\n",
              "      fill: #D2E3FC;\n",
              "    }\n",
              "\n",
              "    [theme=dark] .colab-df-convert:hover {\n",
              "      background-color: #434B5C;\n",
              "      box-shadow: 0px 1px 3px 1px rgba(0, 0, 0, 0.15);\n",
              "      filter: drop-shadow(0px 1px 2px rgba(0, 0, 0, 0.3));\n",
              "      fill: #FFFFFF;\n",
              "    }\n",
              "  </style>\n",
              "\n",
              "      <script>\n",
              "        const buttonEl =\n",
              "          document.querySelector('#df-b3430669-5940-4cdf-99cf-f9c88302e003 button.colab-df-convert');\n",
              "        buttonEl.style.display =\n",
              "          google.colab.kernel.accessAllowed ? 'block' : 'none';\n",
              "\n",
              "        async function convertToInteractive(key) {\n",
              "          const element = document.querySelector('#df-b3430669-5940-4cdf-99cf-f9c88302e003');\n",
              "          const dataTable =\n",
              "            await google.colab.kernel.invokeFunction('convertToInteractive',\n",
              "                                                     [key], {});\n",
              "          if (!dataTable) return;\n",
              "\n",
              "          const docLinkHtml = 'Like what you see? Visit the ' +\n",
              "            '<a target=\"_blank\" href=https://colab.research.google.com/notebooks/data_table.ipynb>data table notebook</a>'\n",
              "            + ' to learn more about interactive tables.';\n",
              "          element.innerHTML = '';\n",
              "          dataTable['output_type'] = 'display_data';\n",
              "          await google.colab.output.renderOutput(dataTable, element);\n",
              "          const docLink = document.createElement('div');\n",
              "          docLink.innerHTML = docLinkHtml;\n",
              "          element.appendChild(docLink);\n",
              "        }\n",
              "      </script>\n",
              "    </div>\n",
              "  </div>\n",
              "  "
            ]
          },
          "metadata": {},
          "execution_count": 5
        }
      ]
    },
    {
      "cell_type": "code",
      "source": [
        "img_rows, img_cols = 64, 64\n",
        "input_shape = (img_rows, img_cols)"
      ],
      "metadata": {
        "id": "2uZbLmY45eXS"
      },
      "execution_count": null,
      "outputs": []
    },
    {
      "cell_type": "code",
      "source": [
        "X = np.array(data.iloc[:, 1:])\n",
        "y = to_categorical(np.array(data.iloc[:, 0]))"
      ],
      "metadata": {
        "id": "vcijFojN5gCa"
      },
      "execution_count": null,
      "outputs": []
    },
    {
      "cell_type": "code",
      "source": [
        "X_train, X_val, y_train, y_val = train_test_split(X, y, test_size=0.2, random_state=13)"
      ],
      "metadata": {
        "id": "R8q4bveQ5ksy"
      },
      "execution_count": null,
      "outputs": []
    },
    {
      "cell_type": "code",
      "source": [
        "X_train = X_train.reshape(X_train.shape[0], img_rows, img_cols)\n",
        "X_val = X_val.reshape(X_val.shape[0], img_rows, img_cols)"
      ],
      "metadata": {
        "id": "pUXtYF8v5xVC"
      },
      "execution_count": null,
      "outputs": []
    },
    {
      "cell_type": "code",
      "source": [
        "X_train = X_train.astype('float32')\n",
        "X_val = X_val.astype('float32')\n",
        "\n",
        "X_train /= 255\n",
        "X_val /= 255"
      ],
      "metadata": {
        "id": "taZsS_rJ526q"
      },
      "execution_count": null,
      "outputs": []
    },
    {
      "cell_type": "code",
      "source": [
        "import keras\n",
        "from keras.datasets import mnist\n",
        "from keras.models import Model\n",
        "from keras.layers import Input, Dense, TimeDistributed\n",
        "from keras.layers import LSTM, Bidirectional, Conv1D, concatenate, Permute, Dropout"
      ],
      "metadata": {
        "id": "jeu8cGTe56hb"
      },
      "execution_count": null,
      "outputs": []
    },
    {
      "cell_type": "code",
      "source": [
        "batch_size = 32\n",
        "num_classes = 39\n",
        "epochs = 100"
      ],
      "metadata": {
        "id": "a5-793ME59ir"
      },
      "execution_count": null,
      "outputs": []
    },
    {
      "cell_type": "code",
      "source": [
        "row_hidden = 64\n",
        "col_hidden = 64"
      ],
      "metadata": {
        "id": "9ID5TDXq5_-E"
      },
      "execution_count": null,
      "outputs": []
    },
    {
      "cell_type": "code",
      "source": [
        "row, col = X_train.shape[1:]"
      ],
      "metadata": {
        "id": "KUsjgdo36Bbz"
      },
      "execution_count": null,
      "outputs": []
    },
    {
      "cell_type": "code",
      "source": [
        "input = Input(shape=(row, col))"
      ],
      "metadata": {
        "id": "4mEO3NNC6C3D"
      },
      "execution_count": null,
      "outputs": []
    },
    {
      "cell_type": "code",
      "source": [
        "def lstm_pipe(in_layer):\n",
        "    x = Conv1D(row_hidden, kernel_size=3, padding = 'same')(in_layer)\n",
        "    x = Conv1D(row_hidden, kernel_size=3, padding = 'same')(x)\n",
        "    encoded_rows = Bidirectional(LSTM(row_hidden, return_sequences = True))(x)\n",
        "    return LSTM(col_hidden)(encoded_rows)"
      ],
      "metadata": {
        "id": "JWCNOETp6ENL"
      },
      "execution_count": null,
      "outputs": []
    },
    {
      "cell_type": "code",
      "source": [
        "# read it by rows\n",
        "first_read = lstm_pipe(input)"
      ],
      "metadata": {
        "id": "7v--z7uc6GXj"
      },
      "execution_count": null,
      "outputs": []
    },
    {
      "cell_type": "code",
      "source": [
        "# read it by columns\n",
        "trans_read = lstm_pipe(Permute(dims = (1,2))(input))"
      ],
      "metadata": {
        "id": "fl3CJ_vV6H9z"
      },
      "execution_count": null,
      "outputs": []
    },
    {
      "cell_type": "code",
      "source": [
        "encoded_columns = concatenate([first_read, trans_read])\n",
        "encoded_columns = Dropout(0.2)(encoded_columns)\n",
        "prediction = Dense(num_classes, activation='softmax')(encoded_columns)\n",
        "model = Model(input, prediction)"
      ],
      "metadata": {
        "id": "uejD554l6KLi"
      },
      "execution_count": null,
      "outputs": []
    },
    {
      "cell_type": "code",
      "source": [
        "model.summary()"
      ],
      "metadata": {
        "colab": {
          "base_uri": "https://localhost:8080/"
        },
        "id": "Md7sbVJb6OvC",
        "outputId": "08c094e6-b349-4720-a1a6-34622ce57c9f"
      },
      "execution_count": null,
      "outputs": [
        {
          "output_type": "stream",
          "name": "stdout",
          "text": [
            "Model: \"model\"\n",
            "__________________________________________________________________________________________________\n",
            " Layer (type)                   Output Shape         Param #     Connected to                     \n",
            "==================================================================================================\n",
            " input_1 (InputLayer)           [(None, 64, 64)]     0           []                               \n",
            "                                                                                                  \n",
            " permute (Permute)              (None, 64, 64)       0           ['input_1[0][0]']                \n",
            "                                                                                                  \n",
            " conv1d (Conv1D)                (None, 64, 64)       12352       ['input_1[0][0]']                \n",
            "                                                                                                  \n",
            " conv1d_2 (Conv1D)              (None, 64, 64)       12352       ['permute[0][0]']                \n",
            "                                                                                                  \n",
            " conv1d_1 (Conv1D)              (None, 64, 64)       12352       ['conv1d[0][0]']                 \n",
            "                                                                                                  \n",
            " conv1d_3 (Conv1D)              (None, 64, 64)       12352       ['conv1d_2[0][0]']               \n",
            "                                                                                                  \n",
            " bidirectional (Bidirectional)  (None, 64, 128)      66048       ['conv1d_1[0][0]']               \n",
            "                                                                                                  \n",
            " bidirectional_1 (Bidirectional  (None, 64, 128)     66048       ['conv1d_3[0][0]']               \n",
            " )                                                                                                \n",
            "                                                                                                  \n",
            " lstm_1 (LSTM)                  (None, 64)           49408       ['bidirectional[0][0]']          \n",
            "                                                                                                  \n",
            " lstm_3 (LSTM)                  (None, 64)           49408       ['bidirectional_1[0][0]']        \n",
            "                                                                                                  \n",
            " concatenate (Concatenate)      (None, 128)          0           ['lstm_1[0][0]',                 \n",
            "                                                                  'lstm_3[0][0]']                 \n",
            "                                                                                                  \n",
            " dropout (Dropout)              (None, 128)          0           ['concatenate[0][0]']            \n",
            "                                                                                                  \n",
            " dense (Dense)                  (None, 39)           5031        ['dropout[0][0]']                \n",
            "                                                                                                  \n",
            "==================================================================================================\n",
            "Total params: 285,351\n",
            "Trainable params: 285,351\n",
            "Non-trainable params: 0\n",
            "__________________________________________________________________________________________________\n"
          ]
        }
      ]
    },
    {
      "cell_type": "code",
      "source": [
        "from tensorflow.keras.utils import plot_model"
      ],
      "metadata": {
        "id": "i9zFmT-KuVhZ"
      },
      "execution_count": null,
      "outputs": []
    },
    {
      "cell_type": "code",
      "source": [
        "plot_model(model)"
      ],
      "metadata": {
        "colab": {
          "base_uri": "https://localhost:8080/",
          "height": 856
        },
        "id": "V-X-5m6DuZzY",
        "outputId": "3ba52ba1-fb75-42a2-b378-9cacaeeee62f"
      },
      "execution_count": null,
      "outputs": [
        {
          "output_type": "execute_result",
          "data": {
            "image/png": "[encoded data removed]",
            "text/plain": [
              "<IPython.core.display.Image object>"
            ]
          },
          "metadata": {},
          "execution_count": 22
        }
      ]
    },
    {
      "cell_type": "code",
      "source": [
        "model.compile(loss='categorical_crossentropy',\n",
        "              optimizer='adam',\n",
        "              metrics=['accuracy'])"
      ],
      "metadata": {
        "id": "crTOJCIa6NOS"
      },
      "execution_count": null,
      "outputs": []
    },
    {
      "cell_type": "code",
      "source": [
        "history = model.fit(X_train, y_train,\n",
        "              batch_size=batch_size,\n",
        "              epochs=epochs,\n",
        "              verbose=1,\n",
        "              validation_data=(X_val, y_val))"
      ],
      "metadata": {
        "colab": {
          "base_uri": "https://localhost:8080/"
        },
        "id": "h_-__Pou6Qy6",
        "outputId": "9823e491-5b59-4a6b-e757-f10028d39182"
      },
      "execution_count": null,
      "outputs": [
        {
          "output_type": "stream",
          "name": "stdout",
          "text": [
            "Epoch 1/100\n",
            "1387/1387 [==============================] - 58s 26ms/step - loss: 2.7336 - accuracy: 0.2585 - val_loss: 2.2583 - val_accuracy: 0.3624\n",
            "Epoch 2/100\n",
            "1387/1387 [==============================] - 31s 22ms/step - loss: 2.1208 - accuracy: 0.3940 - val_loss: 1.9278 - val_accuracy: 0.4463\n",
            "Epoch 3/100\n",
            "1387/1387 [==============================] - 31s 22ms/step - loss: 1.8454 - accuracy: 0.4691 - val_loss: 1.6977 - val_accuracy: 0.5049\n",
            "Epoch 4/100\n",
            "1387/1387 [==============================] - 32s 23ms/step - loss: 1.6601 - accuracy: 0.5147 - val_loss: 1.5167 - val_accuracy: 0.5489\n",
            "Epoch 5/100\n",
            "1387/1387 [==============================] - 33s 24ms/step - loss: 1.4957 - accuracy: 0.5566 - val_loss: 1.3747 - val_accuracy: 0.5873\n",
            "Epoch 6/100\n",
            "1387/1387 [==============================] - 31s 23ms/step - loss: 1.3567 - accuracy: 0.5961 - val_loss: 1.2537 - val_accuracy: 0.6231\n",
            "Epoch 7/100\n",
            "1387/1387 [==============================] - 32s 23ms/step - loss: 1.2487 - accuracy: 0.6246 - val_loss: 1.2478 - val_accuracy: 0.6284\n",
            "Epoch 8/100\n",
            "1387/1387 [==============================] - 31s 22ms/step - loss: 1.1481 - accuracy: 0.6518 - val_loss: 1.1188 - val_accuracy: 0.6555\n",
            "Epoch 9/100\n",
            "1387/1387 [==============================] - 31s 22ms/step - loss: 1.0628 - accuracy: 0.6756 - val_loss: 1.0479 - val_accuracy: 0.6830\n",
            "Epoch 10/100\n",
            "1387/1387 [==============================] - 32s 23ms/step - loss: 1.0022 - accuracy: 0.6942 - val_loss: 0.9881 - val_accuracy: 0.6918\n",
            "Epoch 11/100\n",
            "1387/1387 [==============================] - 31s 22ms/step - loss: 0.9365 - accuracy: 0.7125 - val_loss: 0.9697 - val_accuracy: 0.6953\n",
            "Epoch 12/100\n",
            "1387/1387 [==============================] - 34s 24ms/step - loss: 0.8961 - accuracy: 0.7220 - val_loss: 0.9663 - val_accuracy: 0.7002\n",
            "Epoch 13/100\n",
            "1387/1387 [==============================] - 34s 24ms/step - loss: 0.8413 - accuracy: 0.7382 - val_loss: 0.9214 - val_accuracy: 0.7152\n",
            "Epoch 14/100\n",
            "1387/1387 [==============================] - 31s 22ms/step - loss: 0.8024 - accuracy: 0.7497 - val_loss: 0.8872 - val_accuracy: 0.7224\n",
            "Epoch 15/100\n",
            "1387/1387 [==============================] - 33s 24ms/step - loss: 0.7621 - accuracy: 0.7603 - val_loss: 0.9187 - val_accuracy: 0.7194\n",
            "Epoch 16/100\n",
            "1387/1387 [==============================] - 31s 22ms/step - loss: 0.7298 - accuracy: 0.7685 - val_loss: 0.8615 - val_accuracy: 0.7331\n",
            "Epoch 17/100\n",
            "1387/1387 [==============================] - 31s 22ms/step - loss: 0.6922 - accuracy: 0.7796 - val_loss: 0.8295 - val_accuracy: 0.7355\n",
            "Epoch 18/100\n",
            "1387/1387 [==============================] - 32s 23ms/step - loss: 0.6745 - accuracy: 0.7852 - val_loss: 0.8560 - val_accuracy: 0.7317\n",
            "Epoch 19/100\n",
            "1387/1387 [==============================] - 31s 22ms/step - loss: 0.6484 - accuracy: 0.7912 - val_loss: 0.8160 - val_accuracy: 0.7472\n",
            "Epoch 20/100\n",
            "1387/1387 [==============================] - 30s 22ms/step - loss: 0.6253 - accuracy: 0.7983 - val_loss: 0.7915 - val_accuracy: 0.7539\n",
            "Epoch 21/100\n",
            "1387/1387 [==============================] - 31s 22ms/step - loss: 0.5944 - accuracy: 0.8090 - val_loss: 0.8205 - val_accuracy: 0.7437\n",
            "Epoch 22/100\n",
            "1387/1387 [==============================] - 34s 24ms/step - loss: 0.5717 - accuracy: 0.8155 - val_loss: 0.9225 - val_accuracy: 0.7184\n",
            "Epoch 23/100\n",
            "1387/1387 [==============================] - 33s 24ms/step - loss: 0.5472 - accuracy: 0.8219 - val_loss: 0.8666 - val_accuracy: 0.7357\n",
            "Epoch 24/100\n",
            "1387/1387 [==============================] - 34s 24ms/step - loss: 0.5452 - accuracy: 0.8233 - val_loss: 0.7947 - val_accuracy: 0.7571\n",
            "Epoch 25/100\n",
            "1387/1387 [==============================] - 31s 22ms/step - loss: 0.5173 - accuracy: 0.8305 - val_loss: 0.8137 - val_accuracy: 0.7543\n",
            "Epoch 26/100\n",
            "1387/1387 [==============================] - 33s 24ms/step - loss: 0.5007 - accuracy: 0.8363 - val_loss: 0.7875 - val_accuracy: 0.7582\n",
            "Epoch 27/100\n",
            "1387/1387 [==============================] - 31s 22ms/step - loss: 0.4846 - accuracy: 0.8405 - val_loss: 0.7689 - val_accuracy: 0.7640\n",
            "Epoch 28/100\n",
            "1387/1387 [==============================] - 30s 22ms/step - loss: 0.4712 - accuracy: 0.8440 - val_loss: 0.7711 - val_accuracy: 0.7705\n",
            "Epoch 29/100\n",
            "1387/1387 [==============================] - 31s 22ms/step - loss: 0.4626 - accuracy: 0.8460 - val_loss: 0.7533 - val_accuracy: 0.7698\n",
            "Epoch 30/100\n",
            "1387/1387 [==============================] - 31s 22ms/step - loss: 0.4417 - accuracy: 0.8538 - val_loss: 0.7831 - val_accuracy: 0.7654\n",
            "Epoch 31/100\n",
            "1387/1387 [==============================] - 31s 23ms/step - loss: 0.4333 - accuracy: 0.8562 - val_loss: 0.8053 - val_accuracy: 0.7567\n",
            "Epoch 32/100\n",
            "1387/1387 [==============================] - 33s 24ms/step - loss: 0.4194 - accuracy: 0.8606 - val_loss: 0.8354 - val_accuracy: 0.7563\n",
            "Epoch 33/100\n",
            "1387/1387 [==============================] - 31s 22ms/step - loss: 0.4019 - accuracy: 0.8646 - val_loss: 0.7988 - val_accuracy: 0.7643\n",
            "Epoch 34/100\n",
            "1387/1387 [==============================] - 31s 22ms/step - loss: 0.4031 - accuracy: 0.8654 - val_loss: 0.8966 - val_accuracy: 0.7436\n",
            "Epoch 35/100\n",
            "1387/1387 [==============================] - 34s 24ms/step - loss: 0.3793 - accuracy: 0.8742 - val_loss: 0.7968 - val_accuracy: 0.7646\n",
            "Epoch 36/100\n",
            "1387/1387 [==============================] - 31s 22ms/step - loss: 0.3768 - accuracy: 0.8719 - val_loss: 0.8218 - val_accuracy: 0.7635\n",
            "Epoch 37/100\n",
            "1387/1387 [==============================] - 31s 22ms/step - loss: 0.3656 - accuracy: 0.8765 - val_loss: 0.8001 - val_accuracy: 0.7724\n",
            "Epoch 38/100\n",
            "1387/1387 [==============================] - 33s 24ms/step - loss: 0.3568 - accuracy: 0.8798 - val_loss: 0.7855 - val_accuracy: 0.7689\n",
            "Epoch 39/100\n",
            "1387/1387 [==============================] - 33s 24ms/step - loss: 0.3475 - accuracy: 0.8830 - val_loss: 0.8074 - val_accuracy: 0.7682\n",
            "Epoch 40/100\n",
            "1387/1387 [==============================] - 32s 23ms/step - loss: 0.3367 - accuracy: 0.8852 - val_loss: 0.7921 - val_accuracy: 0.7718\n",
            "Epoch 41/100\n",
            "1387/1387 [==============================] - 34s 24ms/step - loss: 0.3360 - accuracy: 0.8857 - val_loss: 0.8791 - val_accuracy: 0.7506\n",
            "Epoch 42/100\n",
            "1387/1387 [==============================] - 31s 22ms/step - loss: 0.3259 - accuracy: 0.8893 - val_loss: 0.8224 - val_accuracy: 0.7691\n",
            "Epoch 43/100\n",
            "1387/1387 [==============================] - 32s 23ms/step - loss: 0.3139 - accuracy: 0.8921 - val_loss: 0.8184 - val_accuracy: 0.7696\n",
            "Epoch 44/100\n",
            "1387/1387 [==============================] - 31s 23ms/step - loss: 0.3088 - accuracy: 0.8947 - val_loss: 0.8410 - val_accuracy: 0.7645\n",
            "Epoch 45/100\n",
            "1387/1387 [==============================] - 31s 22ms/step - loss: 0.3051 - accuracy: 0.8952 - val_loss: 0.8527 - val_accuracy: 0.7666\n",
            "Epoch 46/100\n",
            "1387/1387 [==============================] - 32s 23ms/step - loss: 0.2985 - accuracy: 0.8985 - val_loss: 0.8587 - val_accuracy: 0.7716\n",
            "Epoch 47/100\n",
            "1387/1387 [==============================] - 31s 23ms/step - loss: 0.2975 - accuracy: 0.8986 - val_loss: 0.8495 - val_accuracy: 0.7670\n",
            "Epoch 48/100\n",
            "1387/1387 [==============================] - 31s 23ms/step - loss: 0.2952 - accuracy: 0.8994 - val_loss: 0.8445 - val_accuracy: 0.7707\n",
            "Epoch 49/100\n",
            "1387/1387 [==============================] - 32s 23ms/step - loss: 0.2747 - accuracy: 0.9066 - val_loss: 0.8599 - val_accuracy: 0.7661\n",
            "Epoch 50/100\n",
            "1387/1387 [==============================] - 32s 23ms/step - loss: 0.2763 - accuracy: 0.9052 - val_loss: 0.8761 - val_accuracy: 0.7627\n",
            "Epoch 51/100\n",
            "1387/1387 [==============================] - 31s 22ms/step - loss: 0.2819 - accuracy: 0.9039 - val_loss: 0.8694 - val_accuracy: 0.7653\n",
            "Epoch 52/100\n",
            "1387/1387 [==============================] - 32s 23ms/step - loss: 0.2710 - accuracy: 0.9080 - val_loss: 0.8680 - val_accuracy: 0.7637\n",
            "Epoch 53/100\n",
            "1387/1387 [==============================] - 31s 22ms/step - loss: 0.2692 - accuracy: 0.9080 - val_loss: 0.8453 - val_accuracy: 0.7754\n",
            "Epoch 54/100\n",
            "1387/1387 [==============================] - 31s 22ms/step - loss: 0.2617 - accuracy: 0.9115 - val_loss: 0.8597 - val_accuracy: 0.7665\n",
            "Epoch 55/100\n",
            "1387/1387 [==============================] - 31s 22ms/step - loss: 0.2655 - accuracy: 0.9083 - val_loss: 0.8822 - val_accuracy: 0.7643\n",
            "Epoch 56/100\n",
            "1387/1387 [==============================] - 32s 23ms/step - loss: 0.2698 - accuracy: 0.9067 - val_loss: 0.8832 - val_accuracy: 0.7705\n",
            "Epoch 57/100\n",
            "1387/1387 [==============================] - 33s 24ms/step - loss: 0.2610 - accuracy: 0.9102 - val_loss: 0.9074 - val_accuracy: 0.7665\n",
            "Epoch 58/100\n",
            "1387/1387 [==============================] - 32s 23ms/step - loss: 0.2506 - accuracy: 0.9137 - val_loss: 0.8713 - val_accuracy: 0.7705\n",
            "Epoch 59/100\n",
            "1387/1387 [==============================] - 31s 22ms/step - loss: 0.2413 - accuracy: 0.9164 - val_loss: 0.8958 - val_accuracy: 0.7637\n",
            "Epoch 60/100\n",
            "1387/1387 [==============================] - 34s 24ms/step - loss: 0.2507 - accuracy: 0.9146 - val_loss: 0.8672 - val_accuracy: 0.7717\n",
            "Epoch 61/100\n",
            "1387/1387 [==============================] - 34s 24ms/step - loss: 0.2509 - accuracy: 0.9139 - val_loss: 0.9220 - val_accuracy: 0.7596\n",
            "Epoch 62/100\n",
            "1387/1387 [==============================] - 33s 24ms/step - loss: 0.2428 - accuracy: 0.9182 - val_loss: 0.8987 - val_accuracy: 0.7667\n",
            "Epoch 63/100\n",
            "1387/1387 [==============================] - 34s 25ms/step - loss: 0.2419 - accuracy: 0.9173 - val_loss: 0.8929 - val_accuracy: 0.7731\n",
            "Epoch 64/100\n",
            "1387/1387 [==============================] - 33s 24ms/step - loss: 0.2319 - accuracy: 0.9198 - val_loss: 0.9093 - val_accuracy: 0.7645\n",
            "Epoch 65/100\n",
            "1387/1387 [==============================] - 32s 23ms/step - loss: 0.2349 - accuracy: 0.9180 - val_loss: 0.8688 - val_accuracy: 0.7730\n",
            "Epoch 66/100\n",
            "1387/1387 [==============================] - 31s 22ms/step - loss: 0.2285 - accuracy: 0.9214 - val_loss: 0.9212 - val_accuracy: 0.7648\n",
            "Epoch 67/100\n",
            "1387/1387 [==============================] - 31s 22ms/step - loss: 0.2291 - accuracy: 0.9198 - val_loss: 0.8965 - val_accuracy: 0.7710\n",
            "Epoch 68/100\n",
            "1387/1387 [==============================] - 32s 23ms/step - loss: 0.2311 - accuracy: 0.9201 - val_loss: 0.9067 - val_accuracy: 0.7700\n",
            "Epoch 69/100\n",
            "1387/1387 [==============================] - 34s 24ms/step - loss: 0.2285 - accuracy: 0.9200 - val_loss: 0.9970 - val_accuracy: 0.7546\n",
            "Epoch 70/100\n",
            "1387/1387 [==============================] - 34s 25ms/step - loss: 0.2222 - accuracy: 0.9231 - val_loss: 0.8898 - val_accuracy: 0.7762\n",
            "Epoch 71/100\n",
            "1387/1387 [==============================] - 31s 22ms/step - loss: 0.2239 - accuracy: 0.9230 - val_loss: 0.8821 - val_accuracy: 0.7755\n",
            "Epoch 72/100\n",
            "1387/1387 [==============================] - 34s 24ms/step - loss: 0.2266 - accuracy: 0.9210 - val_loss: 0.9146 - val_accuracy: 0.7680\n",
            "Epoch 73/100\n",
            "1387/1387 [==============================] - 32s 23ms/step - loss: 0.2303 - accuracy: 0.9203 - val_loss: 0.8959 - val_accuracy: 0.7711\n",
            "Epoch 74/100\n",
            "1387/1387 [==============================] - 31s 22ms/step - loss: 0.2164 - accuracy: 0.9258 - val_loss: 0.8864 - val_accuracy: 0.7792\n",
            "Epoch 75/100\n",
            "1387/1387 [==============================] - 34s 24ms/step - loss: 0.2153 - accuracy: 0.9255 - val_loss: 0.8960 - val_accuracy: 0.7765\n",
            "Epoch 76/100\n",
            "1387/1387 [==============================] - 31s 23ms/step - loss: 0.2241 - accuracy: 0.9230 - val_loss: 0.9342 - val_accuracy: 0.7670\n",
            "Epoch 77/100\n",
            "1387/1387 [==============================] - 34s 24ms/step - loss: 0.2223 - accuracy: 0.9238 - val_loss: 0.8699 - val_accuracy: 0.7803\n",
            "Epoch 78/100\n",
            "1387/1387 [==============================] - 34s 25ms/step - loss: 0.2128 - accuracy: 0.9267 - val_loss: 0.9212 - val_accuracy: 0.7683\n",
            "Epoch 79/100\n",
            "1387/1387 [==============================] - 35s 25ms/step - loss: 0.2089 - accuracy: 0.9277 - val_loss: 0.9041 - val_accuracy: 0.7750\n",
            "Epoch 80/100\n",
            "1387/1387 [==============================] - 31s 23ms/step - loss: 0.2001 - accuracy: 0.9293 - val_loss: 0.9302 - val_accuracy: 0.7703\n",
            "Epoch 81/100\n",
            "1387/1387 [==============================] - 31s 22ms/step - loss: 0.2087 - accuracy: 0.9291 - val_loss: 0.9199 - val_accuracy: 0.7719\n",
            "Epoch 82/100\n",
            "1387/1387 [==============================] - 32s 23ms/step - loss: 0.2115 - accuracy: 0.9266 - val_loss: 0.9306 - val_accuracy: 0.7718\n",
            "Epoch 83/100\n",
            "1387/1387 [==============================] - 34s 24ms/step - loss: 0.2000 - accuracy: 0.9311 - val_loss: 0.9431 - val_accuracy: 0.7702\n",
            "Epoch 84/100\n",
            "1387/1387 [==============================] - 33s 24ms/step - loss: 0.2099 - accuracy: 0.9273 - val_loss: 0.9118 - val_accuracy: 0.7710\n",
            "Epoch 85/100\n",
            "1387/1387 [==============================] - 31s 22ms/step - loss: 0.2086 - accuracy: 0.9279 - val_loss: 0.9259 - val_accuracy: 0.7739\n",
            "Epoch 86/100\n",
            "1387/1387 [==============================] - 31s 22ms/step - loss: 0.1944 - accuracy: 0.9311 - val_loss: 0.9336 - val_accuracy: 0.7746\n",
            "Epoch 87/100\n",
            "1387/1387 [==============================] - 32s 23ms/step - loss: 0.2118 - accuracy: 0.9274 - val_loss: 0.9501 - val_accuracy: 0.7672\n",
            "Epoch 88/100\n",
            "1387/1387 [==============================] - 31s 23ms/step - loss: 0.1948 - accuracy: 0.9335 - val_loss: 0.9254 - val_accuracy: 0.7749\n",
            "Epoch 89/100\n",
            "1387/1387 [==============================] - 34s 24ms/step - loss: 0.2079 - accuracy: 0.9288 - val_loss: 0.9222 - val_accuracy: 0.7714\n",
            "Epoch 90/100\n",
            "1387/1387 [==============================] - 32s 23ms/step - loss: 0.1925 - accuracy: 0.9341 - val_loss: 0.9538 - val_accuracy: 0.7698\n",
            "Epoch 91/100\n",
            "1387/1387 [==============================] - 31s 22ms/step - loss: 0.2119 - accuracy: 0.9278 - val_loss: 0.9368 - val_accuracy: 0.7745\n",
            "Epoch 92/100\n",
            "1387/1387 [==============================] - 31s 22ms/step - loss: 0.1927 - accuracy: 0.9340 - val_loss: 0.9245 - val_accuracy: 0.7810\n",
            "Epoch 93/100\n",
            "1387/1387 [==============================] - 32s 23ms/step - loss: 0.1991 - accuracy: 0.9327 - val_loss: 0.9616 - val_accuracy: 0.7656\n",
            "Epoch 94/100\n",
            "1387/1387 [==============================] - 31s 22ms/step - loss: 0.2068 - accuracy: 0.9280 - val_loss: 0.9428 - val_accuracy: 0.7695\n",
            "Epoch 95/100\n",
            "1387/1387 [==============================] - 34s 24ms/step - loss: 0.1864 - accuracy: 0.9360 - val_loss: 0.9199 - val_accuracy: 0.7683\n",
            "Epoch 96/100\n",
            "1387/1387 [==============================] - 32s 23ms/step - loss: 0.2011 - accuracy: 0.9318 - val_loss: 0.9477 - val_accuracy: 0.7745\n",
            "Epoch 97/100\n",
            "1387/1387 [==============================] - 34s 24ms/step - loss: 0.1815 - accuracy: 0.9373 - val_loss: 0.9642 - val_accuracy: 0.7677\n",
            "Epoch 98/100\n",
            "1387/1387 [==============================] - 33s 24ms/step - loss: 0.1979 - accuracy: 0.9325 - val_loss: 0.9910 - val_accuracy: 0.7620\n",
            "Epoch 99/100\n",
            "1387/1387 [==============================] - 31s 22ms/step - loss: 0.2022 - accuracy: 0.9301 - val_loss: 0.9483 - val_accuracy: 0.7710\n",
            "Epoch 100/100\n",
            "1387/1387 [==============================] - 31s 22ms/step - loss: 0.1941 - accuracy: 0.9340 - val_loss: 0.9833 - val_accuracy: 0.7656\n"
          ]
        }
      ]
    },
    {
      "cell_type": "code",
      "source": [
        "model.save('LSTMModel9376.h5')"
      ],
      "metadata": {
        "id": "jzeDm_p88Emt"
      },
      "execution_count": null,
      "outputs": []
    },
    {
      "cell_type": "code",
      "source": [],
      "metadata": {
        "id": "N6FXHnkr8c6Q"
      },
      "execution_count": null,
      "outputs": []
    },
    {
      "cell_type": "code",
      "source": [],
      "metadata": {
        "id": "NUAfYVUC8c2y"
      },
      "execution_count": null,
      "outputs": []
    },
    {
      "cell_type": "code",
      "source": [
        "import pandas as pd\n",
        "from sklearn.metrics import classification_report\n",
        "import seaborn as sns"
      ],
      "metadata": {
        "id": "6sR6FHOh3DDh"
      },
      "execution_count": null,
      "outputs": []
    },
    {
      "cell_type": "code",
      "source": [
        "y_val"
      ],
      "metadata": {
        "colab": {
          "base_uri": "https://localhost:8080/"
        },
        "id": "tAfw1guN9Mmi",
        "outputId": "8b2d8e51-d997-4c6e-eb60-ff1f2ca63a45"
      },
      "execution_count": null,
      "outputs": [
        {
          "output_type": "execute_result",
          "data": {
            "text/plain": [
              "array([[0., 0., 0., ..., 0., 0., 0.],\n",
              "       [0., 0., 0., ..., 0., 0., 0.],\n",
              "       [0., 0., 0., ..., 0., 0., 0.],\n",
              "       ...,\n",
              "       [0., 0., 0., ..., 0., 0., 0.],\n",
              "       [0., 0., 0., ..., 0., 0., 0.],\n",
              "       [0., 0., 0., ..., 0., 0., 0.]], dtype=float32)"
            ]
          },
          "metadata": {},
          "execution_count": 31
        }
      ]
    },
    {
      "cell_type": "code",
      "source": [
        "y_pred"
      ],
      "metadata": {
        "colab": {
          "base_uri": "https://localhost:8080/"
        },
        "id": "yF_0uwyq9TVv",
        "outputId": "36b58bc8-039f-4b2d-a136-4130a55c969b"
      },
      "execution_count": null,
      "outputs": [
        {
          "output_type": "execute_result",
          "data": {
            "text/plain": [
              "array([[2.89992685e-03, 1.21695351e-07, 4.25104190e-05, ...,\n",
              "        2.65658662e-10, 1.12701283e-14, 7.56360241e-16],\n",
              "       [9.55628771e-11, 7.27839247e-11, 1.96421506e-13, ...,\n",
              "        6.09513440e-10, 1.30327476e-11, 5.17600753e-08],\n",
              "       [1.05238054e-04, 6.68487610e-06, 2.64792107e-02, ...,\n",
              "        4.94063832e-03, 1.02015061e-03, 5.42925420e-08],\n",
              "       ...,\n",
              "       [2.79496419e-07, 3.64520041e-08, 9.07231512e-11, ...,\n",
              "        5.86821214e-09, 1.00519482e-10, 1.19490511e-11],\n",
              "       [2.29963759e-09, 4.99207111e-08, 1.73453975e-06, ...,\n",
              "        3.58641938e-09, 8.17977864e-16, 4.63463816e-11],\n",
              "       [4.82386397e-09, 2.22414371e-07, 1.69111086e-10, ...,\n",
              "        2.26443907e-12, 3.91351451e-10, 5.67190905e-10]], dtype=float32)"
            ]
          },
          "metadata": {},
          "execution_count": 32
        }
      ]
    },
    {
      "cell_type": "code",
      "source": [
        "# y_prob = model.predict(X_val)\n",
        "# y_pred = np.argmax(y_prob, axis=1)\n",
        "# report = classification_report(y_val, y_pred, output_dict=True)\n",
        "\n",
        "y_pred = model.predict(X_val)\n",
        "report = classification_report(np.argmax(y_val, axis=1), np.argmax(y_pred, axis=1), output_dict=True)\n"
      ],
      "metadata": {
        "id": "ETTDRS325QKu",
        "colab": {
          "base_uri": "https://localhost:8080/"
        },
        "outputId": "9a048a1d-6be1-4f1b-9ce5-ff3c3431d199"
      },
      "execution_count": null,
      "outputs": [
        {
          "output_type": "stream",
          "name": "stdout",
          "text": [
            "347/347 [==============================] - 4s 10ms/step\n"
          ]
        }
      ]
    },
    {
      "cell_type": "code",
      "source": [
        "# create a dataframe from the classification report\n",
        "df = pd.DataFrame(report).transpose()"
      ],
      "metadata": {
        "id": "sQHWnhRSmmra"
      },
      "execution_count": null,
      "outputs": []
    },
    {
      "cell_type": "code",
      "source": [
        "df.tail()"
      ],
      "metadata": {
        "colab": {
          "base_uri": "https://localhost:8080/",
          "height": 206
        },
        "id": "ksiSIPiYpBFj",
        "outputId": "4784e5e6-4478-43e0-dc8a-b88be1254f04"
      },
      "execution_count": null,
      "outputs": [
        {
          "output_type": "execute_result",
          "data": {
            "text/plain": [
              "              precision    recall  f1-score       support\n",
              "37             0.610390  0.643836  0.626667     73.000000\n",
              "38             0.851124  0.920973  0.884672    329.000000\n",
              "accuracy       0.765645  0.765645  0.765645      0.765645\n",
              "macro avg      0.708541  0.708176  0.706700  11090.000000\n",
              "weighted avg   0.766245  0.765645  0.765024  11090.000000"
            ],
            "text/html": [
              "\n",
              "  <div id=\"df-e5639ddc-ba72-426d-a3aa-27937c4ea5ea\">\n",
              "    <div class=\"colab-df-container\">\n",
              "      <div>\n",
              "<style scoped>\n",
              "    .dataframe tbody tr th:only-of-type {\n",
              "        vertical-align: middle;\n",
              "    }\n",
              "\n",
              "    .dataframe tbody tr th {\n",
              "        vertical-align: top;\n",
              "    }\n",
              "\n",
              "    .dataframe thead th {\n",
              "        text-align: right;\n",
              "    }\n",
              "</style>\n",
              "<table border=\"1\" class=\"dataframe\">\n",
              "  <thead>\n",
              "    <tr style=\"text-align: right;\">\n",
              "      <th></th>\n",
              "      <th>precision</th>\n",
              "      <th>recall</th>\n",
              "      <th>f1-score</th>\n",
              "      <th>support</th>\n",
              "    </tr>\n",
              "  </thead>\n",
              "  <tbody>\n",
              "    <tr>\n",
              "      <th>37</th>\n",
              "      <td>0.610390</td>\n",
              "      <td>0.643836</td>\n",
              "      <td>0.626667</td>\n",
              "      <td>73.000000</td>\n",
              "    </tr>\n",
              "    <tr>\n",
              "      <th>38</th>\n",
              "      <td>0.851124</td>\n",
              "      <td>0.920973</td>\n",
              "      <td>0.884672</td>\n",
              "      <td>329.000000</td>\n",
              "    </tr>\n",
              "    <tr>\n",
              "      <th>accuracy</th>\n",
              "      <td>0.765645</td>\n",
              "      <td>0.765645</td>\n",
              "      <td>0.765645</td>\n",
              "      <td>0.765645</td>\n",
              "    </tr>\n",
              "    <tr>\n",
              "      <th>macro avg</th>\n",
              "      <td>0.708541</td>\n",
              "      <td>0.708176</td>\n",
              "      <td>0.706700</td>\n",
              "      <td>11090.000000</td>\n",
              "    </tr>\n",
              "    <tr>\n",
              "      <th>weighted avg</th>\n",
              "      <td>0.766245</td>\n",
              "      <td>0.765645</td>\n",
              "      <td>0.765024</td>\n",
              "      <td>11090.000000</td>\n",
              "    </tr>\n",
              "  </tbody>\n",
              "</table>\n",
              "</div>\n",
              "      <button class=\"colab-df-convert\" onclick=\"convertToInteractive('df-e5639ddc-ba72-426d-a3aa-27937c4ea5ea')\"\n",
              "              title=\"Convert this dataframe to an interactive table.\"\n",
              "              style=\"display:none;\">\n",
              "        \n",
              "  <svg xmlns=\"http://www.w3.org/2000/svg\" height=\"24px\"viewBox=\"0 0 24 24\"\n",
              "       width=\"24px\">\n",
              "    <path d=\"M0 0h24v24H0V0z\" fill=\"none\"/>\n",
              "    <path d=\"M18.56 5.44l.94 2.06.94-2.06 2.06-.94-2.06-.94-.94-2.06-.94 2.06-2.06.94zm-11 1L8.5 8.5l.94-2.06 2.06-.94-2.06-.94L8.5 2.5l-.94 2.06-2.06.94zm10 10l.94 2.06.94-2.06 2.06-.94-2.06-.94-.94-2.06-.94 2.06-2.06.94z\"/><path d=\"M17.41 7.96l-1.37-1.37c-.4-.4-.92-.59-1.43-.59-.52 0-1.04.2-1.43.59L10.3 9.45l-7.72 7.72c-.78.78-.78 2.05 0 2.83L4 21.41c.39.39.9.59 1.41.59.51 0 1.02-.2 1.41-.59l7.78-7.78 2.81-2.81c.8-.78.8-2.07 0-2.86zM5.41 20L4 18.59l7.72-7.72 1.47 1.35L5.41 20z\"/>\n",
              "  </svg>\n",
              "      </button>\n",
              "      \n",
              "  <style>\n",
              "    .colab-df-container {\n",
              "      display:flex;\n",
              "      flex-wrap:wrap;\n",
              "      gap: 12px;\n",
              "    }\n",
              "\n",
              "    .colab-df-convert {\n",
              "      background-color: #E8F0FE;\n",
              "      border: none;\n",
              "      border-radius: 50%;\n",
              "      cursor: pointer;\n",
              "      display: none;\n",
              "      fill: #1967D2;\n",
              "      height: 32px;\n",
              "      padding: 0 0 0 0;\n",
              "      width: 32px;\n",
              "    }\n",
              "\n",
              "    .colab-df-convert:hover {\n",
              "      background-color: #E2EBFA;\n",
              "      box-shadow: 0px 1px 2px rgba(60, 64, 67, 0.3), 0px 1px 3px 1px rgba(60, 64, 67, 0.15);\n",
              "      fill: #174EA6;\n",
              "    }\n",
              "\n",
              "    [theme=dark] .colab-df-convert {\n",
              "      background-color: #3B4455;\n",
              "      fill: #D2E3FC;\n",
              "    }\n",
              "\n",
              "    [theme=dark] .colab-df-convert:hover {\n",
              "      background-color: #434B5C;\n",
              "      box-shadow: 0px 1px 3px 1px rgba(0, 0, 0, 0.15);\n",
              "      filter: drop-shadow(0px 1px 2px rgba(0, 0, 0, 0.3));\n",
              "      fill: #FFFFFF;\n",
              "    }\n",
              "  </style>\n",
              "\n",
              "      <script>\n",
              "        const buttonEl =\n",
              "          document.querySelector('#df-e5639ddc-ba72-426d-a3aa-27937c4ea5ea button.colab-df-convert');\n",
              "        buttonEl.style.display =\n",
              "          google.colab.kernel.accessAllowed ? 'block' : 'none';\n",
              "\n",
              "        async function convertToInteractive(key) {\n",
              "          const element = document.querySelector('#df-e5639ddc-ba72-426d-a3aa-27937c4ea5ea');\n",
              "          const dataTable =\n",
              "            await google.colab.kernel.invokeFunction('convertToInteractive',\n",
              "                                                     [key], {});\n",
              "          if (!dataTable) return;\n",
              "\n",
              "          const docLinkHtml = 'Like what you see? Visit the ' +\n",
              "            '<a target=\"_blank\" href=https://colab.research.google.com/notebooks/data_table.ipynb>data table notebook</a>'\n",
              "            + ' to learn more about interactive tables.';\n",
              "          element.innerHTML = '';\n",
              "          dataTable['output_type'] = 'display_data';\n",
              "          await google.colab.output.renderOutput(dataTable, element);\n",
              "          const docLink = document.createElement('div');\n",
              "          docLink.innerHTML = docLinkHtml;\n",
              "          element.appendChild(docLink);\n",
              "        }\n",
              "      </script>\n",
              "    </div>\n",
              "  </div>\n",
              "  "
            ]
          },
          "metadata": {},
          "execution_count": 35
        }
      ]
    },
    {
      "cell_type": "code",
      "source": [],
      "metadata": {
        "id": "6svo8Lqj92bu"
      },
      "execution_count": null,
      "outputs": []
    },
    {
      "cell_type": "code",
      "source": [
        "import matplotlib.pyplot as plt"
      ],
      "metadata": {
        "id": "7vmX-ovVpArn"
      },
      "execution_count": null,
      "outputs": []
    },
    {
      "cell_type": "code",
      "source": [
        "plt.style.use('dark_background')"
      ],
      "metadata": {
        "id": "oF_A-kMS914J"
      },
      "execution_count": null,
      "outputs": []
    },
    {
      "cell_type": "code",
      "source": [
        "acc = history.history['accuracy']\n",
        "val_acc = history.history['val_accuracy']\n",
        "\n",
        "epochs = range(len(acc))\n",
        "\n",
        "fig = plt.figure(figsize=(15,6))\n",
        "plt.plot(epochs,acc,c=\"red\",label=\"Training\")\n",
        "plt.plot(epochs,val_acc,c=\"blue\",label=\"Validation\")\n",
        "plt.xlabel(\"Epochs\")\n",
        "plt.ylabel(\"Accuracy\")\n",
        "plt.legend()"
      ],
      "metadata": {
        "colab": {
          "base_uri": "https://localhost:8080/",
          "height": 559
        },
        "id": "jGYPelCDo8P-",
        "outputId": "ca485cc0-e148-4c46-965b-290006c053a8"
      },
      "execution_count": null,
      "outputs": [
        {
          "output_type": "execute_result",
          "data": {
            "text/plain": [
              "<matplotlib.legend.Legend at 0x7f485554e530>"
            ]
          },
          "metadata": {},
          "execution_count": 41
        },
        {
          "output_type": "display_data",
          "data": {
            "text/plain": [
              "<Figure size 1500x600 with 1 Axes>"
            ],
            "image/png": "[encoded data removed]"
          },
          "metadata": {}
        }
      ]
    },
    {
      "cell_type": "code",
      "source": [
        "loss = history.history['loss']\n",
        "val_loss = history.history['val_loss']\n",
        "\n",
        "epochs = range(len(loss))\n",
        "\n",
        "fig = plt.figure(figsize=(15,6))\n",
        "plt.plot(epochs,loss,c=\"red\",label=\"Training\")\n",
        "plt.plot(epochs,val_loss,c=\"blue\",label=\"Validation\")\n",
        "plt.xlabel(\"Epochs\")\n",
        "plt.ylabel(\"Loss\")\n",
        "plt.legend()"
      ],
      "metadata": {
        "colab": {
          "base_uri": "https://localhost:8080/",
          "height": 559
        },
        "id": "-vYi3E-UpLCl",
        "outputId": "1ab85405-75fd-4013-c9d9-70841509e9e8"
      },
      "execution_count": null,
      "outputs": [
        {
          "output_type": "execute_result",
          "data": {
            "text/plain": [
              "<matplotlib.legend.Legend at 0x7f48554da650>"
            ]
          },
          "metadata": {},
          "execution_count": 40
        },
        {
          "output_type": "display_data",
          "data": {
            "text/plain": [
              "<Figure size 1500x600 with 1 Axes>"
            ],
            "image/png": "[encoded data removed]"
          },
          "metadata": {}
        }
      ]
    },
    {
      "cell_type": "code",
      "source": [],
      "metadata": {
        "id": "WHPjCoWnpODT"
      },
      "execution_count": null,
      "outputs": []
    }
  ]
}