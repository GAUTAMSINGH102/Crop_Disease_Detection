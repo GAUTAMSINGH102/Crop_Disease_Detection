{
  "nbformat": 4,
  "nbformat_minor": 0,
  "metadata": {
    "colab": {
      "provenance": []
    },
    "kernelspec": {
      "name": "python3",
      "display_name": "Python 3"
    },
    "language_info": {
      "name": "python"
    }
  },
  "cells": [
    {
      "cell_type": "code",
      "source": [
        "from google.colab import drive\n",
        "drive.mount('/content/drive')"
      ],
      "metadata": {
        "colab": {
          "base_uri": "https://localhost:8080/"
        },
        "id": "JlLnWkGt2jxT",
        "outputId": "3874f533-e194-41d7-a2e3-da074ea3a69c"
      },
      "execution_count": 2,
      "outputs": [
        {
          "output_type": "stream",
          "name": "stdout",
          "text": [
            "Mounted at /content/drive\n"
          ]
        }
      ]
    },
    {
      "cell_type": "code",
      "execution_count": 1,
      "metadata": {
        "id": "D0LirCup2c6G"
      },
      "outputs": [],
      "source": [
        "import cv2\n",
        "import numpy as np\n",
        "from tensorflow import keras"
      ]
    },
    {
      "cell_type": "code",
      "source": [
        "# Load the saved model\n",
        "model = keras.models.load_model('/content/InceptionFirst.h5')"
      ],
      "metadata": {
        "id": "UOnYE5NS6b-y"
      },
      "execution_count": 21,
      "outputs": []
    },
    {
      "cell_type": "code",
      "source": [
        "label = {\n",
        "0: 'appleScab',\n",
        "1: 'appleBlackRot',\n",
        "2: 'appleRust',\n",
        "3: 'appleHealthy',\n",
        "4: 'backWithoutLeaves',\n",
        "5: 'blueberryHealthy',\n",
        "6: 'cherryHealthy',\n",
        "7: 'cherryPowderyMildew',\n",
        "8: 'cornCercospora',\n",
        "9: 'cornRust',\n",
        "10: 'cornHealthy',\n",
        "11: 'cornBlight',\n",
        "12: 'grapeBlackRot',\n",
        "13: 'grapeEsca',\n",
        "14: 'grapeHealthy',\n",
        "15: 'grapeBlight',\n",
        "16: 'orangeHaun',\n",
        "17: 'peachBacteria',\n",
        "18: 'peachHealthy',\n",
        "19: 'pepperBacteria',\n",
        "20: 'pepperHealthy',\n",
        "21: 'potatoEarlyBlight',\n",
        "22: 'potatoHealthy',\n",
        "23: 'potatoLateBlight',\n",
        "24: 'raspberryHealthy',\n",
        "25: 'soybeanHealthy',\n",
        "26: 'squashPowderyMildew',\n",
        "27: 'strawberryHealthy',\n",
        "28: 'strawberryLeafScorch',\n",
        "29: 'tomatoBacteria',\n",
        "30: 'tomatoEarlyBlight',\n",
        "31: 'tomatoHealthy',\n",
        "32: 'tomatoLateBlight',\n",
        "33: 'tomatoLeafMold',\n",
        "34: 'tomatoSeptoria',\n",
        "35: 'tomatoSpiderMites',\n",
        "36: 'tomatoTargetSpot',\n",
        "37: 'tomatoMosaic',\n",
        "38: 'tomatoYellowLeaf'\n",
        "}"
      ],
      "metadata": {
        "id": "LKJhkWejDcLu"
      },
      "execution_count": 22,
      "outputs": []
    },
    {
      "cell_type": "code",
      "source": [
        "fertilizer = {\n",
        "'appleScab': 'Nitrogen',\n",
        "'appleBlackRot': 'Phosphorus',\n",
        "'appleRust': 'Potassium',\n",
        "'appleHealthy': 'Nitrogen',\n",
        "'backWithoutLeaves': 'Nitrogen',\n",
        "'blueberryHealthy': 'Iron',\n",
        "'cherryHealthy': 'Nitrogen',\n",
        "'cherryPowderyMildew': 'Sulfur',\n",
        "'cornCercospora': 'Nitrogen',\n",
        "'cornRust': 'Nitrogen',\n",
        "'cornHealthy': 'Nitrogen',\n",
        "'cornBlight': 'Potassium',\n",
        "'grapeBlackRot': 'Phosphorus',\n",
        "'grapeEsca': 'Nitrogen',\n",
        "'grapeHealthy': 'Nitrogen',\n",
        "'grapeBlight': 'Potassium',\n",
        "'orangeHaun': 'Zinc',\n",
        "'peachBacteria': 'Potassium',\n",
        "'peachHealthy': 'Nitrogen',\n",
        "'pepperBacteria': 'Phosphorus',\n",
        "'pepperHealthy': 'Nitrogen',\n",
        "'potatoEarlyBlight': 'Phosphorus',\n",
        "'potatoHealthy': 'Nitrogen',\n",
        "'potatoLateBlight': 'Nitrogen',\n",
        "'raspberryHealthy': 'Nitrogen',\n",
        "'soybeanHealthy': 'Nitrogen',\n",
        "'squashPowderyMildew': 'Potassium',\n",
        "'strawberryHealthy': 'Nitrogen',\n",
        "'strawberryLeafScorch': 'Potassium',\n",
        "'tomatoBacteria': 'Calcium',\n",
        "'tomatoEarlyBlight': 'Nitrogen',\n",
        "'tomatoHealthy': 'Nitrogen',\n",
        "'tomatoLateBlight': 'Potassium',\n",
        "'tomatoLeafMold': 'Sulfur',\n",
        "'tomatoSeptoria': 'Nitrogen',\n",
        "'tomatoSpiderMites': 'Phosphorus',\n",
        "'tomatoTargetSpot': 'Phosphorus',\n",
        "'tomatoMosaic': 'Nitrogen',\n",
        "'tomatoYellowLeaf': 'Iron'\n",
        "}"
      ],
      "metadata": {
        "id": "d5E6LKrdEqSd"
      },
      "execution_count": 23,
      "outputs": []
    },
    {
      "cell_type": "code",
      "source": [
        "# Load the test image\n",
        "img = cv2.imread('/content/image.JPG')\n",
        "img = cv2.cvtColor(img, cv2.COLOR_BGR2RGB)  # Convert from BGR to RGB\n",
        "img = cv2.resize(img, (128, 128))  # Resize to the input shape of the model\n",
        "img = img / 255.0  # Normalize pixel values to the range of [0, 1]"
      ],
      "metadata": {
        "id": "-GTAQncJ2jD_"
      },
      "execution_count": 40,
      "outputs": []
    },
    {
      "cell_type": "code",
      "source": [
        "# Make a prediction on the image\n",
        "pred = model.predict(np.array([img]))"
      ],
      "metadata": {
        "colab": {
          "base_uri": "https://localhost:8080/"
        },
        "id": "KqiwctEa7Ohg",
        "outputId": "c7109517-f047-48b7-dc49-687788004f2d"
      },
      "execution_count": 41,
      "outputs": [
        {
          "output_type": "stream",
          "name": "stdout",
          "text": [
            "1/1 [==============================] - 0s 82ms/step\n"
          ]
        }
      ]
    },
    {
      "cell_type": "code",
      "source": [
        "# Get the index of the predicted class\n",
        "pred_class = np.argmax(pred)"
      ],
      "metadata": {
        "id": "BPMhNfoC93nA"
      },
      "execution_count": 42,
      "outputs": []
    },
    {
      "cell_type": "code",
      "source": [
        "# Print the predicted class\n",
        "print('Predicted class:', pred_class)"
      ],
      "metadata": {
        "colab": {
          "base_uri": "https://localhost:8080/"
        },
        "id": "0xT1PeQB998y",
        "outputId": "6c6f29a4-318c-4d84-80e0-e45c708d6462"
      },
      "execution_count": 43,
      "outputs": [
        {
          "output_type": "stream",
          "name": "stdout",
          "text": [
            "Predicted class: 29\n"
          ]
        }
      ]
    },
    {
      "cell_type": "code",
      "source": [
        "print(f'Detection : {label[pred_class]}')"
      ],
      "metadata": {
        "colab": {
          "base_uri": "https://localhost:8080/"
        },
        "id": "XVFaHpR-9-Wd",
        "outputId": "fcea88c4-7a84-4f85-afe8-cf5900f9393f"
      },
      "execution_count": 44,
      "outputs": [
        {
          "output_type": "stream",
          "name": "stdout",
          "text": [
            "Detection : tomatoBacteria\n"
          ]
        }
      ]
    },
    {
      "cell_type": "code",
      "source": [
        "print(f\"Fertilizer : {fertilizer[label[pred_class]]}\")"
      ],
      "metadata": {
        "colab": {
          "base_uri": "https://localhost:8080/"
        },
        "id": "q_OFT3QYEyuR",
        "outputId": "2102779a-f895-48cd-9ffe-6b5878d0d04a"
      },
      "execution_count": 46,
      "outputs": [
        {
          "output_type": "stream",
          "name": "stdout",
          "text": [
            "Fertilizer : Calcium\n"
          ]
        }
      ]
    },
    {
      "cell_type": "code",
      "source": [],
      "metadata": {
        "id": "uv52Bn2fGNfG"
      },
      "execution_count": null,
      "outputs": []
    }
  ]
}